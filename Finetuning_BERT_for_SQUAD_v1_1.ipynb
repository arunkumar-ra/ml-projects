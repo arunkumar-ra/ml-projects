{
  "nbformat": 4,
  "nbformat_minor": 0,
  "metadata": {
    "colab": {
      "provenance": [],
      "gpuType": "T4",
      "authorship_tag": "ABX9TyOeVdjoTQG47SQH201AEQGx",
      "include_colab_link": true
    },
    "kernelspec": {
      "name": "python3",
      "display_name": "Python 3"
    },
    "language_info": {
      "name": "python"
    },
    "accelerator": "GPU",
    "widgets": {
      "application/vnd.jupyter.widget-state+json": {
        "13d508e1675c48e4a1a4d982461c983d": {
          "model_module": "@jupyter-widgets/controls",
          "model_name": "HBoxModel",
          "model_module_version": "1.5.0",
          "state": {
            "_dom_classes": [],
            "_model_module": "@jupyter-widgets/controls",
            "_model_module_version": "1.5.0",
            "_model_name": "HBoxModel",
            "_view_count": null,
            "_view_module": "@jupyter-widgets/controls",
            "_view_module_version": "1.5.0",
            "_view_name": "HBoxView",
            "box_style": "",
            "children": [
              "IPY_MODEL_5a0d4f2ca70e44cea9f566d9d9f16648",
              "IPY_MODEL_852bda1b752240b7849563debd3e6730",
              "IPY_MODEL_5b02589c61b6428880cb24fd448f2f02"
            ],
            "layout": "IPY_MODEL_51e00570382d484b83a194599dbc7597"
          }
        },
        "5a0d4f2ca70e44cea9f566d9d9f16648": {
          "model_module": "@jupyter-widgets/controls",
          "model_name": "HTMLModel",
          "model_module_version": "1.5.0",
          "state": {
            "_dom_classes": [],
            "_model_module": "@jupyter-widgets/controls",
            "_model_module_version": "1.5.0",
            "_model_name": "HTMLModel",
            "_view_count": null,
            "_view_module": "@jupyter-widgets/controls",
            "_view_module_version": "1.5.0",
            "_view_name": "HTMLView",
            "description": "",
            "description_tooltip": null,
            "layout": "IPY_MODEL_5b81a3e292d04ef2b2d39fb464784bc8",
            "placeholder": "​",
            "style": "IPY_MODEL_06fc435bae3640f59490aa50eb2234be",
            "value": "tokenizer_config.json: 100%"
          }
        },
        "852bda1b752240b7849563debd3e6730": {
          "model_module": "@jupyter-widgets/controls",
          "model_name": "FloatProgressModel",
          "model_module_version": "1.5.0",
          "state": {
            "_dom_classes": [],
            "_model_module": "@jupyter-widgets/controls",
            "_model_module_version": "1.5.0",
            "_model_name": "FloatProgressModel",
            "_view_count": null,
            "_view_module": "@jupyter-widgets/controls",
            "_view_module_version": "1.5.0",
            "_view_name": "ProgressView",
            "bar_style": "success",
            "description": "",
            "description_tooltip": null,
            "layout": "IPY_MODEL_d5f9359de3cd4ba49287ba0dd989a548",
            "max": 48,
            "min": 0,
            "orientation": "horizontal",
            "style": "IPY_MODEL_c605929ea0c249e7a30bc4a4c01fe031",
            "value": 48
          }
        },
        "5b02589c61b6428880cb24fd448f2f02": {
          "model_module": "@jupyter-widgets/controls",
          "model_name": "HTMLModel",
          "model_module_version": "1.5.0",
          "state": {
            "_dom_classes": [],
            "_model_module": "@jupyter-widgets/controls",
            "_model_module_version": "1.5.0",
            "_model_name": "HTMLModel",
            "_view_count": null,
            "_view_module": "@jupyter-widgets/controls",
            "_view_module_version": "1.5.0",
            "_view_name": "HTMLView",
            "description": "",
            "description_tooltip": null,
            "layout": "IPY_MODEL_3ae63d52b97a48dc8407b4b878b2aa1b",
            "placeholder": "​",
            "style": "IPY_MODEL_ac5e2fdff5ae4fcfaa0514af458f64a6",
            "value": " 48.0/48.0 [00:00&lt;00:00, 814B/s]"
          }
        },
        "51e00570382d484b83a194599dbc7597": {
          "model_module": "@jupyter-widgets/base",
          "model_name": "LayoutModel",
          "model_module_version": "1.2.0",
          "state": {
            "_model_module": "@jupyter-widgets/base",
            "_model_module_version": "1.2.0",
            "_model_name": "LayoutModel",
            "_view_count": null,
            "_view_module": "@jupyter-widgets/base",
            "_view_module_version": "1.2.0",
            "_view_name": "LayoutView",
            "align_content": null,
            "align_items": null,
            "align_self": null,
            "border": null,
            "bottom": null,
            "display": null,
            "flex": null,
            "flex_flow": null,
            "grid_area": null,
            "grid_auto_columns": null,
            "grid_auto_flow": null,
            "grid_auto_rows": null,
            "grid_column": null,
            "grid_gap": null,
            "grid_row": null,
            "grid_template_areas": null,
            "grid_template_columns": null,
            "grid_template_rows": null,
            "height": null,
            "justify_content": null,
            "justify_items": null,
            "left": null,
            "margin": null,
            "max_height": null,
            "max_width": null,
            "min_height": null,
            "min_width": null,
            "object_fit": null,
            "object_position": null,
            "order": null,
            "overflow": null,
            "overflow_x": null,
            "overflow_y": null,
            "padding": null,
            "right": null,
            "top": null,
            "visibility": null,
            "width": null
          }
        },
        "5b81a3e292d04ef2b2d39fb464784bc8": {
          "model_module": "@jupyter-widgets/base",
          "model_name": "LayoutModel",
          "model_module_version": "1.2.0",
          "state": {
            "_model_module": "@jupyter-widgets/base",
            "_model_module_version": "1.2.0",
            "_model_name": "LayoutModel",
            "_view_count": null,
            "_view_module": "@jupyter-widgets/base",
            "_view_module_version": "1.2.0",
            "_view_name": "LayoutView",
            "align_content": null,
            "align_items": null,
            "align_self": null,
            "border": null,
            "bottom": null,
            "display": null,
            "flex": null,
            "flex_flow": null,
            "grid_area": null,
            "grid_auto_columns": null,
            "grid_auto_flow": null,
            "grid_auto_rows": null,
            "grid_column": null,
            "grid_gap": null,
            "grid_row": null,
            "grid_template_areas": null,
            "grid_template_columns": null,
            "grid_template_rows": null,
            "height": null,
            "justify_content": null,
            "justify_items": null,
            "left": null,
            "margin": null,
            "max_height": null,
            "max_width": null,
            "min_height": null,
            "min_width": null,
            "object_fit": null,
            "object_position": null,
            "order": null,
            "overflow": null,
            "overflow_x": null,
            "overflow_y": null,
            "padding": null,
            "right": null,
            "top": null,
            "visibility": null,
            "width": null
          }
        },
        "06fc435bae3640f59490aa50eb2234be": {
          "model_module": "@jupyter-widgets/controls",
          "model_name": "DescriptionStyleModel",
          "model_module_version": "1.5.0",
          "state": {
            "_model_module": "@jupyter-widgets/controls",
            "_model_module_version": "1.5.0",
            "_model_name": "DescriptionStyleModel",
            "_view_count": null,
            "_view_module": "@jupyter-widgets/base",
            "_view_module_version": "1.2.0",
            "_view_name": "StyleView",
            "description_width": ""
          }
        },
        "d5f9359de3cd4ba49287ba0dd989a548": {
          "model_module": "@jupyter-widgets/base",
          "model_name": "LayoutModel",
          "model_module_version": "1.2.0",
          "state": {
            "_model_module": "@jupyter-widgets/base",
            "_model_module_version": "1.2.0",
            "_model_name": "LayoutModel",
            "_view_count": null,
            "_view_module": "@jupyter-widgets/base",
            "_view_module_version": "1.2.0",
            "_view_name": "LayoutView",
            "align_content": null,
            "align_items": null,
            "align_self": null,
            "border": null,
            "bottom": null,
            "display": null,
            "flex": null,
            "flex_flow": null,
            "grid_area": null,
            "grid_auto_columns": null,
            "grid_auto_flow": null,
            "grid_auto_rows": null,
            "grid_column": null,
            "grid_gap": null,
            "grid_row": null,
            "grid_template_areas": null,
            "grid_template_columns": null,
            "grid_template_rows": null,
            "height": null,
            "justify_content": null,
            "justify_items": null,
            "left": null,
            "margin": null,
            "max_height": null,
            "max_width": null,
            "min_height": null,
            "min_width": null,
            "object_fit": null,
            "object_position": null,
            "order": null,
            "overflow": null,
            "overflow_x": null,
            "overflow_y": null,
            "padding": null,
            "right": null,
            "top": null,
            "visibility": null,
            "width": null
          }
        },
        "c605929ea0c249e7a30bc4a4c01fe031": {
          "model_module": "@jupyter-widgets/controls",
          "model_name": "ProgressStyleModel",
          "model_module_version": "1.5.0",
          "state": {
            "_model_module": "@jupyter-widgets/controls",
            "_model_module_version": "1.5.0",
            "_model_name": "ProgressStyleModel",
            "_view_count": null,
            "_view_module": "@jupyter-widgets/base",
            "_view_module_version": "1.2.0",
            "_view_name": "StyleView",
            "bar_color": null,
            "description_width": ""
          }
        },
        "3ae63d52b97a48dc8407b4b878b2aa1b": {
          "model_module": "@jupyter-widgets/base",
          "model_name": "LayoutModel",
          "model_module_version": "1.2.0",
          "state": {
            "_model_module": "@jupyter-widgets/base",
            "_model_module_version": "1.2.0",
            "_model_name": "LayoutModel",
            "_view_count": null,
            "_view_module": "@jupyter-widgets/base",
            "_view_module_version": "1.2.0",
            "_view_name": "LayoutView",
            "align_content": null,
            "align_items": null,
            "align_self": null,
            "border": null,
            "bottom": null,
            "display": null,
            "flex": null,
            "flex_flow": null,
            "grid_area": null,
            "grid_auto_columns": null,
            "grid_auto_flow": null,
            "grid_auto_rows": null,
            "grid_column": null,
            "grid_gap": null,
            "grid_row": null,
            "grid_template_areas": null,
            "grid_template_columns": null,
            "grid_template_rows": null,
            "height": null,
            "justify_content": null,
            "justify_items": null,
            "left": null,
            "margin": null,
            "max_height": null,
            "max_width": null,
            "min_height": null,
            "min_width": null,
            "object_fit": null,
            "object_position": null,
            "order": null,
            "overflow": null,
            "overflow_x": null,
            "overflow_y": null,
            "padding": null,
            "right": null,
            "top": null,
            "visibility": null,
            "width": null
          }
        },
        "ac5e2fdff5ae4fcfaa0514af458f64a6": {
          "model_module": "@jupyter-widgets/controls",
          "model_name": "DescriptionStyleModel",
          "model_module_version": "1.5.0",
          "state": {
            "_model_module": "@jupyter-widgets/controls",
            "_model_module_version": "1.5.0",
            "_model_name": "DescriptionStyleModel",
            "_view_count": null,
            "_view_module": "@jupyter-widgets/base",
            "_view_module_version": "1.2.0",
            "_view_name": "StyleView",
            "description_width": ""
          }
        },
        "c0a0c9b2e898479891b5778aa0f9a7a7": {
          "model_module": "@jupyter-widgets/controls",
          "model_name": "HBoxModel",
          "model_module_version": "1.5.0",
          "state": {
            "_dom_classes": [],
            "_model_module": "@jupyter-widgets/controls",
            "_model_module_version": "1.5.0",
            "_model_name": "HBoxModel",
            "_view_count": null,
            "_view_module": "@jupyter-widgets/controls",
            "_view_module_version": "1.5.0",
            "_view_name": "HBoxView",
            "box_style": "",
            "children": [
              "IPY_MODEL_1c1343c88def40f8aecf379d626df711",
              "IPY_MODEL_cf8bdb9c39c2421aa71e23e95875ab65",
              "IPY_MODEL_888ebdc9f87847f1841020732db95a74"
            ],
            "layout": "IPY_MODEL_ef862e4b555a49c2987631c38e846988"
          }
        },
        "1c1343c88def40f8aecf379d626df711": {
          "model_module": "@jupyter-widgets/controls",
          "model_name": "HTMLModel",
          "model_module_version": "1.5.0",
          "state": {
            "_dom_classes": [],
            "_model_module": "@jupyter-widgets/controls",
            "_model_module_version": "1.5.0",
            "_model_name": "HTMLModel",
            "_view_count": null,
            "_view_module": "@jupyter-widgets/controls",
            "_view_module_version": "1.5.0",
            "_view_name": "HTMLView",
            "description": "",
            "description_tooltip": null,
            "layout": "IPY_MODEL_da37d4b7e01c45b586d54ba626677485",
            "placeholder": "​",
            "style": "IPY_MODEL_ac2b3dbc05e84d06b2608c7a9c1ccc7d",
            "value": "vocab.txt: 100%"
          }
        },
        "cf8bdb9c39c2421aa71e23e95875ab65": {
          "model_module": "@jupyter-widgets/controls",
          "model_name": "FloatProgressModel",
          "model_module_version": "1.5.0",
          "state": {
            "_dom_classes": [],
            "_model_module": "@jupyter-widgets/controls",
            "_model_module_version": "1.5.0",
            "_model_name": "FloatProgressModel",
            "_view_count": null,
            "_view_module": "@jupyter-widgets/controls",
            "_view_module_version": "1.5.0",
            "_view_name": "ProgressView",
            "bar_style": "success",
            "description": "",
            "description_tooltip": null,
            "layout": "IPY_MODEL_8830b6a148c04978b33cbace9080e191",
            "max": 231508,
            "min": 0,
            "orientation": "horizontal",
            "style": "IPY_MODEL_49339254454a4fb78bbc3ba4acd04d24",
            "value": 231508
          }
        },
        "888ebdc9f87847f1841020732db95a74": {
          "model_module": "@jupyter-widgets/controls",
          "model_name": "HTMLModel",
          "model_module_version": "1.5.0",
          "state": {
            "_dom_classes": [],
            "_model_module": "@jupyter-widgets/controls",
            "_model_module_version": "1.5.0",
            "_model_name": "HTMLModel",
            "_view_count": null,
            "_view_module": "@jupyter-widgets/controls",
            "_view_module_version": "1.5.0",
            "_view_name": "HTMLView",
            "description": "",
            "description_tooltip": null,
            "layout": "IPY_MODEL_09c923332b6a446db2315b483f63488a",
            "placeholder": "​",
            "style": "IPY_MODEL_ab22822e78ec407fb721ad46f3e9596f",
            "value": " 232k/232k [00:00&lt;00:00, 1.73MB/s]"
          }
        },
        "ef862e4b555a49c2987631c38e846988": {
          "model_module": "@jupyter-widgets/base",
          "model_name": "LayoutModel",
          "model_module_version": "1.2.0",
          "state": {
            "_model_module": "@jupyter-widgets/base",
            "_model_module_version": "1.2.0",
            "_model_name": "LayoutModel",
            "_view_count": null,
            "_view_module": "@jupyter-widgets/base",
            "_view_module_version": "1.2.0",
            "_view_name": "LayoutView",
            "align_content": null,
            "align_items": null,
            "align_self": null,
            "border": null,
            "bottom": null,
            "display": null,
            "flex": null,
            "flex_flow": null,
            "grid_area": null,
            "grid_auto_columns": null,
            "grid_auto_flow": null,
            "grid_auto_rows": null,
            "grid_column": null,
            "grid_gap": null,
            "grid_row": null,
            "grid_template_areas": null,
            "grid_template_columns": null,
            "grid_template_rows": null,
            "height": null,
            "justify_content": null,
            "justify_items": null,
            "left": null,
            "margin": null,
            "max_height": null,
            "max_width": null,
            "min_height": null,
            "min_width": null,
            "object_fit": null,
            "object_position": null,
            "order": null,
            "overflow": null,
            "overflow_x": null,
            "overflow_y": null,
            "padding": null,
            "right": null,
            "top": null,
            "visibility": null,
            "width": null
          }
        },
        "da37d4b7e01c45b586d54ba626677485": {
          "model_module": "@jupyter-widgets/base",
          "model_name": "LayoutModel",
          "model_module_version": "1.2.0",
          "state": {
            "_model_module": "@jupyter-widgets/base",
            "_model_module_version": "1.2.0",
            "_model_name": "LayoutModel",
            "_view_count": null,
            "_view_module": "@jupyter-widgets/base",
            "_view_module_version": "1.2.0",
            "_view_name": "LayoutView",
            "align_content": null,
            "align_items": null,
            "align_self": null,
            "border": null,
            "bottom": null,
            "display": null,
            "flex": null,
            "flex_flow": null,
            "grid_area": null,
            "grid_auto_columns": null,
            "grid_auto_flow": null,
            "grid_auto_rows": null,
            "grid_column": null,
            "grid_gap": null,
            "grid_row": null,
            "grid_template_areas": null,
            "grid_template_columns": null,
            "grid_template_rows": null,
            "height": null,
            "justify_content": null,
            "justify_items": null,
            "left": null,
            "margin": null,
            "max_height": null,
            "max_width": null,
            "min_height": null,
            "min_width": null,
            "object_fit": null,
            "object_position": null,
            "order": null,
            "overflow": null,
            "overflow_x": null,
            "overflow_y": null,
            "padding": null,
            "right": null,
            "top": null,
            "visibility": null,
            "width": null
          }
        },
        "ac2b3dbc05e84d06b2608c7a9c1ccc7d": {
          "model_module": "@jupyter-widgets/controls",
          "model_name": "DescriptionStyleModel",
          "model_module_version": "1.5.0",
          "state": {
            "_model_module": "@jupyter-widgets/controls",
            "_model_module_version": "1.5.0",
            "_model_name": "DescriptionStyleModel",
            "_view_count": null,
            "_view_module": "@jupyter-widgets/base",
            "_view_module_version": "1.2.0",
            "_view_name": "StyleView",
            "description_width": ""
          }
        },
        "8830b6a148c04978b33cbace9080e191": {
          "model_module": "@jupyter-widgets/base",
          "model_name": "LayoutModel",
          "model_module_version": "1.2.0",
          "state": {
            "_model_module": "@jupyter-widgets/base",
            "_model_module_version": "1.2.0",
            "_model_name": "LayoutModel",
            "_view_count": null,
            "_view_module": "@jupyter-widgets/base",
            "_view_module_version": "1.2.0",
            "_view_name": "LayoutView",
            "align_content": null,
            "align_items": null,
            "align_self": null,
            "border": null,
            "bottom": null,
            "display": null,
            "flex": null,
            "flex_flow": null,
            "grid_area": null,
            "grid_auto_columns": null,
            "grid_auto_flow": null,
            "grid_auto_rows": null,
            "grid_column": null,
            "grid_gap": null,
            "grid_row": null,
            "grid_template_areas": null,
            "grid_template_columns": null,
            "grid_template_rows": null,
            "height": null,
            "justify_content": null,
            "justify_items": null,
            "left": null,
            "margin": null,
            "max_height": null,
            "max_width": null,
            "min_height": null,
            "min_width": null,
            "object_fit": null,
            "object_position": null,
            "order": null,
            "overflow": null,
            "overflow_x": null,
            "overflow_y": null,
            "padding": null,
            "right": null,
            "top": null,
            "visibility": null,
            "width": null
          }
        },
        "49339254454a4fb78bbc3ba4acd04d24": {
          "model_module": "@jupyter-widgets/controls",
          "model_name": "ProgressStyleModel",
          "model_module_version": "1.5.0",
          "state": {
            "_model_module": "@jupyter-widgets/controls",
            "_model_module_version": "1.5.0",
            "_model_name": "ProgressStyleModel",
            "_view_count": null,
            "_view_module": "@jupyter-widgets/base",
            "_view_module_version": "1.2.0",
            "_view_name": "StyleView",
            "bar_color": null,
            "description_width": ""
          }
        },
        "09c923332b6a446db2315b483f63488a": {
          "model_module": "@jupyter-widgets/base",
          "model_name": "LayoutModel",
          "model_module_version": "1.2.0",
          "state": {
            "_model_module": "@jupyter-widgets/base",
            "_model_module_version": "1.2.0",
            "_model_name": "LayoutModel",
            "_view_count": null,
            "_view_module": "@jupyter-widgets/base",
            "_view_module_version": "1.2.0",
            "_view_name": "LayoutView",
            "align_content": null,
            "align_items": null,
            "align_self": null,
            "border": null,
            "bottom": null,
            "display": null,
            "flex": null,
            "flex_flow": null,
            "grid_area": null,
            "grid_auto_columns": null,
            "grid_auto_flow": null,
            "grid_auto_rows": null,
            "grid_column": null,
            "grid_gap": null,
            "grid_row": null,
            "grid_template_areas": null,
            "grid_template_columns": null,
            "grid_template_rows": null,
            "height": null,
            "justify_content": null,
            "justify_items": null,
            "left": null,
            "margin": null,
            "max_height": null,
            "max_width": null,
            "min_height": null,
            "min_width": null,
            "object_fit": null,
            "object_position": null,
            "order": null,
            "overflow": null,
            "overflow_x": null,
            "overflow_y": null,
            "padding": null,
            "right": null,
            "top": null,
            "visibility": null,
            "width": null
          }
        },
        "ab22822e78ec407fb721ad46f3e9596f": {
          "model_module": "@jupyter-widgets/controls",
          "model_name": "DescriptionStyleModel",
          "model_module_version": "1.5.0",
          "state": {
            "_model_module": "@jupyter-widgets/controls",
            "_model_module_version": "1.5.0",
            "_model_name": "DescriptionStyleModel",
            "_view_count": null,
            "_view_module": "@jupyter-widgets/base",
            "_view_module_version": "1.2.0",
            "_view_name": "StyleView",
            "description_width": ""
          }
        },
        "05e81d823ade402697169fbdff05169c": {
          "model_module": "@jupyter-widgets/controls",
          "model_name": "HBoxModel",
          "model_module_version": "1.5.0",
          "state": {
            "_dom_classes": [],
            "_model_module": "@jupyter-widgets/controls",
            "_model_module_version": "1.5.0",
            "_model_name": "HBoxModel",
            "_view_count": null,
            "_view_module": "@jupyter-widgets/controls",
            "_view_module_version": "1.5.0",
            "_view_name": "HBoxView",
            "box_style": "",
            "children": [
              "IPY_MODEL_0a4baa0b69924ce7b25f8a498d0682f1",
              "IPY_MODEL_d111843b0e9e49a59b05691fd6d85864",
              "IPY_MODEL_388df11d39464a798058bb2c26b60dd2"
            ],
            "layout": "IPY_MODEL_035d0c9451cf48858b3f7c3d70dd9f22"
          }
        },
        "0a4baa0b69924ce7b25f8a498d0682f1": {
          "model_module": "@jupyter-widgets/controls",
          "model_name": "HTMLModel",
          "model_module_version": "1.5.0",
          "state": {
            "_dom_classes": [],
            "_model_module": "@jupyter-widgets/controls",
            "_model_module_version": "1.5.0",
            "_model_name": "HTMLModel",
            "_view_count": null,
            "_view_module": "@jupyter-widgets/controls",
            "_view_module_version": "1.5.0",
            "_view_name": "HTMLView",
            "description": "",
            "description_tooltip": null,
            "layout": "IPY_MODEL_a8f868319b3946359f7e0d39c11bc51e",
            "placeholder": "​",
            "style": "IPY_MODEL_f928600598244866869aac105ac9915e",
            "value": "tokenizer.json: 100%"
          }
        },
        "d111843b0e9e49a59b05691fd6d85864": {
          "model_module": "@jupyter-widgets/controls",
          "model_name": "FloatProgressModel",
          "model_module_version": "1.5.0",
          "state": {
            "_dom_classes": [],
            "_model_module": "@jupyter-widgets/controls",
            "_model_module_version": "1.5.0",
            "_model_name": "FloatProgressModel",
            "_view_count": null,
            "_view_module": "@jupyter-widgets/controls",
            "_view_module_version": "1.5.0",
            "_view_name": "ProgressView",
            "bar_style": "success",
            "description": "",
            "description_tooltip": null,
            "layout": "IPY_MODEL_3a0704493c6e47638449cf1ac336485f",
            "max": 466062,
            "min": 0,
            "orientation": "horizontal",
            "style": "IPY_MODEL_c0cc9b001f8e466e9458123e0b1b442d",
            "value": 466062
          }
        },
        "388df11d39464a798058bb2c26b60dd2": {
          "model_module": "@jupyter-widgets/controls",
          "model_name": "HTMLModel",
          "model_module_version": "1.5.0",
          "state": {
            "_dom_classes": [],
            "_model_module": "@jupyter-widgets/controls",
            "_model_module_version": "1.5.0",
            "_model_name": "HTMLModel",
            "_view_count": null,
            "_view_module": "@jupyter-widgets/controls",
            "_view_module_version": "1.5.0",
            "_view_name": "HTMLView",
            "description": "",
            "description_tooltip": null,
            "layout": "IPY_MODEL_3298a6f96e3c462587c9b2f07445d273",
            "placeholder": "​",
            "style": "IPY_MODEL_f99d22ccbe8948238d694dd5b65e9e70",
            "value": " 466k/466k [00:00&lt;00:00, 3.48MB/s]"
          }
        },
        "035d0c9451cf48858b3f7c3d70dd9f22": {
          "model_module": "@jupyter-widgets/base",
          "model_name": "LayoutModel",
          "model_module_version": "1.2.0",
          "state": {
            "_model_module": "@jupyter-widgets/base",
            "_model_module_version": "1.2.0",
            "_model_name": "LayoutModel",
            "_view_count": null,
            "_view_module": "@jupyter-widgets/base",
            "_view_module_version": "1.2.0",
            "_view_name": "LayoutView",
            "align_content": null,
            "align_items": null,
            "align_self": null,
            "border": null,
            "bottom": null,
            "display": null,
            "flex": null,
            "flex_flow": null,
            "grid_area": null,
            "grid_auto_columns": null,
            "grid_auto_flow": null,
            "grid_auto_rows": null,
            "grid_column": null,
            "grid_gap": null,
            "grid_row": null,
            "grid_template_areas": null,
            "grid_template_columns": null,
            "grid_template_rows": null,
            "height": null,
            "justify_content": null,
            "justify_items": null,
            "left": null,
            "margin": null,
            "max_height": null,
            "max_width": null,
            "min_height": null,
            "min_width": null,
            "object_fit": null,
            "object_position": null,
            "order": null,
            "overflow": null,
            "overflow_x": null,
            "overflow_y": null,
            "padding": null,
            "right": null,
            "top": null,
            "visibility": null,
            "width": null
          }
        },
        "a8f868319b3946359f7e0d39c11bc51e": {
          "model_module": "@jupyter-widgets/base",
          "model_name": "LayoutModel",
          "model_module_version": "1.2.0",
          "state": {
            "_model_module": "@jupyter-widgets/base",
            "_model_module_version": "1.2.0",
            "_model_name": "LayoutModel",
            "_view_count": null,
            "_view_module": "@jupyter-widgets/base",
            "_view_module_version": "1.2.0",
            "_view_name": "LayoutView",
            "align_content": null,
            "align_items": null,
            "align_self": null,
            "border": null,
            "bottom": null,
            "display": null,
            "flex": null,
            "flex_flow": null,
            "grid_area": null,
            "grid_auto_columns": null,
            "grid_auto_flow": null,
            "grid_auto_rows": null,
            "grid_column": null,
            "grid_gap": null,
            "grid_row": null,
            "grid_template_areas": null,
            "grid_template_columns": null,
            "grid_template_rows": null,
            "height": null,
            "justify_content": null,
            "justify_items": null,
            "left": null,
            "margin": null,
            "max_height": null,
            "max_width": null,
            "min_height": null,
            "min_width": null,
            "object_fit": null,
            "object_position": null,
            "order": null,
            "overflow": null,
            "overflow_x": null,
            "overflow_y": null,
            "padding": null,
            "right": null,
            "top": null,
            "visibility": null,
            "width": null
          }
        },
        "f928600598244866869aac105ac9915e": {
          "model_module": "@jupyter-widgets/controls",
          "model_name": "DescriptionStyleModel",
          "model_module_version": "1.5.0",
          "state": {
            "_model_module": "@jupyter-widgets/controls",
            "_model_module_version": "1.5.0",
            "_model_name": "DescriptionStyleModel",
            "_view_count": null,
            "_view_module": "@jupyter-widgets/base",
            "_view_module_version": "1.2.0",
            "_view_name": "StyleView",
            "description_width": ""
          }
        },
        "3a0704493c6e47638449cf1ac336485f": {
          "model_module": "@jupyter-widgets/base",
          "model_name": "LayoutModel",
          "model_module_version": "1.2.0",
          "state": {
            "_model_module": "@jupyter-widgets/base",
            "_model_module_version": "1.2.0",
            "_model_name": "LayoutModel",
            "_view_count": null,
            "_view_module": "@jupyter-widgets/base",
            "_view_module_version": "1.2.0",
            "_view_name": "LayoutView",
            "align_content": null,
            "align_items": null,
            "align_self": null,
            "border": null,
            "bottom": null,
            "display": null,
            "flex": null,
            "flex_flow": null,
            "grid_area": null,
            "grid_auto_columns": null,
            "grid_auto_flow": null,
            "grid_auto_rows": null,
            "grid_column": null,
            "grid_gap": null,
            "grid_row": null,
            "grid_template_areas": null,
            "grid_template_columns": null,
            "grid_template_rows": null,
            "height": null,
            "justify_content": null,
            "justify_items": null,
            "left": null,
            "margin": null,
            "max_height": null,
            "max_width": null,
            "min_height": null,
            "min_width": null,
            "object_fit": null,
            "object_position": null,
            "order": null,
            "overflow": null,
            "overflow_x": null,
            "overflow_y": null,
            "padding": null,
            "right": null,
            "top": null,
            "visibility": null,
            "width": null
          }
        },
        "c0cc9b001f8e466e9458123e0b1b442d": {
          "model_module": "@jupyter-widgets/controls",
          "model_name": "ProgressStyleModel",
          "model_module_version": "1.5.0",
          "state": {
            "_model_module": "@jupyter-widgets/controls",
            "_model_module_version": "1.5.0",
            "_model_name": "ProgressStyleModel",
            "_view_count": null,
            "_view_module": "@jupyter-widgets/base",
            "_view_module_version": "1.2.0",
            "_view_name": "StyleView",
            "bar_color": null,
            "description_width": ""
          }
        },
        "3298a6f96e3c462587c9b2f07445d273": {
          "model_module": "@jupyter-widgets/base",
          "model_name": "LayoutModel",
          "model_module_version": "1.2.0",
          "state": {
            "_model_module": "@jupyter-widgets/base",
            "_model_module_version": "1.2.0",
            "_model_name": "LayoutModel",
            "_view_count": null,
            "_view_module": "@jupyter-widgets/base",
            "_view_module_version": "1.2.0",
            "_view_name": "LayoutView",
            "align_content": null,
            "align_items": null,
            "align_self": null,
            "border": null,
            "bottom": null,
            "display": null,
            "flex": null,
            "flex_flow": null,
            "grid_area": null,
            "grid_auto_columns": null,
            "grid_auto_flow": null,
            "grid_auto_rows": null,
            "grid_column": null,
            "grid_gap": null,
            "grid_row": null,
            "grid_template_areas": null,
            "grid_template_columns": null,
            "grid_template_rows": null,
            "height": null,
            "justify_content": null,
            "justify_items": null,
            "left": null,
            "margin": null,
            "max_height": null,
            "max_width": null,
            "min_height": null,
            "min_width": null,
            "object_fit": null,
            "object_position": null,
            "order": null,
            "overflow": null,
            "overflow_x": null,
            "overflow_y": null,
            "padding": null,
            "right": null,
            "top": null,
            "visibility": null,
            "width": null
          }
        },
        "f99d22ccbe8948238d694dd5b65e9e70": {
          "model_module": "@jupyter-widgets/controls",
          "model_name": "DescriptionStyleModel",
          "model_module_version": "1.5.0",
          "state": {
            "_model_module": "@jupyter-widgets/controls",
            "_model_module_version": "1.5.0",
            "_model_name": "DescriptionStyleModel",
            "_view_count": null,
            "_view_module": "@jupyter-widgets/base",
            "_view_module_version": "1.2.0",
            "_view_name": "StyleView",
            "description_width": ""
          }
        },
        "3192e215f41e461ca06dfc12849d176e": {
          "model_module": "@jupyter-widgets/controls",
          "model_name": "HBoxModel",
          "model_module_version": "1.5.0",
          "state": {
            "_dom_classes": [],
            "_model_module": "@jupyter-widgets/controls",
            "_model_module_version": "1.5.0",
            "_model_name": "HBoxModel",
            "_view_count": null,
            "_view_module": "@jupyter-widgets/controls",
            "_view_module_version": "1.5.0",
            "_view_name": "HBoxView",
            "box_style": "",
            "children": [
              "IPY_MODEL_8e014d3dc5c5421d84df7edbc3c2cae7",
              "IPY_MODEL_33c2934c15ee41acbdff3f3ab5ca00a8",
              "IPY_MODEL_b780f4c1a6b84ba295fd59a679912ffa"
            ],
            "layout": "IPY_MODEL_c19de055669349b2a9eafbbcd5fac169"
          }
        },
        "8e014d3dc5c5421d84df7edbc3c2cae7": {
          "model_module": "@jupyter-widgets/controls",
          "model_name": "HTMLModel",
          "model_module_version": "1.5.0",
          "state": {
            "_dom_classes": [],
            "_model_module": "@jupyter-widgets/controls",
            "_model_module_version": "1.5.0",
            "_model_name": "HTMLModel",
            "_view_count": null,
            "_view_module": "@jupyter-widgets/controls",
            "_view_module_version": "1.5.0",
            "_view_name": "HTMLView",
            "description": "",
            "description_tooltip": null,
            "layout": "IPY_MODEL_fcff7a2bb3084d1a90f8abc233993357",
            "placeholder": "​",
            "style": "IPY_MODEL_b24e256d34374d3ca9378376c324ebb7",
            "value": "config.json: 100%"
          }
        },
        "33c2934c15ee41acbdff3f3ab5ca00a8": {
          "model_module": "@jupyter-widgets/controls",
          "model_name": "FloatProgressModel",
          "model_module_version": "1.5.0",
          "state": {
            "_dom_classes": [],
            "_model_module": "@jupyter-widgets/controls",
            "_model_module_version": "1.5.0",
            "_model_name": "FloatProgressModel",
            "_view_count": null,
            "_view_module": "@jupyter-widgets/controls",
            "_view_module_version": "1.5.0",
            "_view_name": "ProgressView",
            "bar_style": "success",
            "description": "",
            "description_tooltip": null,
            "layout": "IPY_MODEL_35563caab63d40a9a1d006ad0a0d0f46",
            "max": 570,
            "min": 0,
            "orientation": "horizontal",
            "style": "IPY_MODEL_2cb60d717cfe4b35bf894dec9718cb03",
            "value": 570
          }
        },
        "b780f4c1a6b84ba295fd59a679912ffa": {
          "model_module": "@jupyter-widgets/controls",
          "model_name": "HTMLModel",
          "model_module_version": "1.5.0",
          "state": {
            "_dom_classes": [],
            "_model_module": "@jupyter-widgets/controls",
            "_model_module_version": "1.5.0",
            "_model_name": "HTMLModel",
            "_view_count": null,
            "_view_module": "@jupyter-widgets/controls",
            "_view_module_version": "1.5.0",
            "_view_name": "HTMLView",
            "description": "",
            "description_tooltip": null,
            "layout": "IPY_MODEL_44038ca6423c4ae6b53ba2e2d0b7ee3d",
            "placeholder": "​",
            "style": "IPY_MODEL_0d3a8d101882420d96247f79c72154ea",
            "value": " 570/570 [00:00&lt;00:00, 12.8kB/s]"
          }
        },
        "c19de055669349b2a9eafbbcd5fac169": {
          "model_module": "@jupyter-widgets/base",
          "model_name": "LayoutModel",
          "model_module_version": "1.2.0",
          "state": {
            "_model_module": "@jupyter-widgets/base",
            "_model_module_version": "1.2.0",
            "_model_name": "LayoutModel",
            "_view_count": null,
            "_view_module": "@jupyter-widgets/base",
            "_view_module_version": "1.2.0",
            "_view_name": "LayoutView",
            "align_content": null,
            "align_items": null,
            "align_self": null,
            "border": null,
            "bottom": null,
            "display": null,
            "flex": null,
            "flex_flow": null,
            "grid_area": null,
            "grid_auto_columns": null,
            "grid_auto_flow": null,
            "grid_auto_rows": null,
            "grid_column": null,
            "grid_gap": null,
            "grid_row": null,
            "grid_template_areas": null,
            "grid_template_columns": null,
            "grid_template_rows": null,
            "height": null,
            "justify_content": null,
            "justify_items": null,
            "left": null,
            "margin": null,
            "max_height": null,
            "max_width": null,
            "min_height": null,
            "min_width": null,
            "object_fit": null,
            "object_position": null,
            "order": null,
            "overflow": null,
            "overflow_x": null,
            "overflow_y": null,
            "padding": null,
            "right": null,
            "top": null,
            "visibility": null,
            "width": null
          }
        },
        "fcff7a2bb3084d1a90f8abc233993357": {
          "model_module": "@jupyter-widgets/base",
          "model_name": "LayoutModel",
          "model_module_version": "1.2.0",
          "state": {
            "_model_module": "@jupyter-widgets/base",
            "_model_module_version": "1.2.0",
            "_model_name": "LayoutModel",
            "_view_count": null,
            "_view_module": "@jupyter-widgets/base",
            "_view_module_version": "1.2.0",
            "_view_name": "LayoutView",
            "align_content": null,
            "align_items": null,
            "align_self": null,
            "border": null,
            "bottom": null,
            "display": null,
            "flex": null,
            "flex_flow": null,
            "grid_area": null,
            "grid_auto_columns": null,
            "grid_auto_flow": null,
            "grid_auto_rows": null,
            "grid_column": null,
            "grid_gap": null,
            "grid_row": null,
            "grid_template_areas": null,
            "grid_template_columns": null,
            "grid_template_rows": null,
            "height": null,
            "justify_content": null,
            "justify_items": null,
            "left": null,
            "margin": null,
            "max_height": null,
            "max_width": null,
            "min_height": null,
            "min_width": null,
            "object_fit": null,
            "object_position": null,
            "order": null,
            "overflow": null,
            "overflow_x": null,
            "overflow_y": null,
            "padding": null,
            "right": null,
            "top": null,
            "visibility": null,
            "width": null
          }
        },
        "b24e256d34374d3ca9378376c324ebb7": {
          "model_module": "@jupyter-widgets/controls",
          "model_name": "DescriptionStyleModel",
          "model_module_version": "1.5.0",
          "state": {
            "_model_module": "@jupyter-widgets/controls",
            "_model_module_version": "1.5.0",
            "_model_name": "DescriptionStyleModel",
            "_view_count": null,
            "_view_module": "@jupyter-widgets/base",
            "_view_module_version": "1.2.0",
            "_view_name": "StyleView",
            "description_width": ""
          }
        },
        "35563caab63d40a9a1d006ad0a0d0f46": {
          "model_module": "@jupyter-widgets/base",
          "model_name": "LayoutModel",
          "model_module_version": "1.2.0",
          "state": {
            "_model_module": "@jupyter-widgets/base",
            "_model_module_version": "1.2.0",
            "_model_name": "LayoutModel",
            "_view_count": null,
            "_view_module": "@jupyter-widgets/base",
            "_view_module_version": "1.2.0",
            "_view_name": "LayoutView",
            "align_content": null,
            "align_items": null,
            "align_self": null,
            "border": null,
            "bottom": null,
            "display": null,
            "flex": null,
            "flex_flow": null,
            "grid_area": null,
            "grid_auto_columns": null,
            "grid_auto_flow": null,
            "grid_auto_rows": null,
            "grid_column": null,
            "grid_gap": null,
            "grid_row": null,
            "grid_template_areas": null,
            "grid_template_columns": null,
            "grid_template_rows": null,
            "height": null,
            "justify_content": null,
            "justify_items": null,
            "left": null,
            "margin": null,
            "max_height": null,
            "max_width": null,
            "min_height": null,
            "min_width": null,
            "object_fit": null,
            "object_position": null,
            "order": null,
            "overflow": null,
            "overflow_x": null,
            "overflow_y": null,
            "padding": null,
            "right": null,
            "top": null,
            "visibility": null,
            "width": null
          }
        },
        "2cb60d717cfe4b35bf894dec9718cb03": {
          "model_module": "@jupyter-widgets/controls",
          "model_name": "ProgressStyleModel",
          "model_module_version": "1.5.0",
          "state": {
            "_model_module": "@jupyter-widgets/controls",
            "_model_module_version": "1.5.0",
            "_model_name": "ProgressStyleModel",
            "_view_count": null,
            "_view_module": "@jupyter-widgets/base",
            "_view_module_version": "1.2.0",
            "_view_name": "StyleView",
            "bar_color": null,
            "description_width": ""
          }
        },
        "44038ca6423c4ae6b53ba2e2d0b7ee3d": {
          "model_module": "@jupyter-widgets/base",
          "model_name": "LayoutModel",
          "model_module_version": "1.2.0",
          "state": {
            "_model_module": "@jupyter-widgets/base",
            "_model_module_version": "1.2.0",
            "_model_name": "LayoutModel",
            "_view_count": null,
            "_view_module": "@jupyter-widgets/base",
            "_view_module_version": "1.2.0",
            "_view_name": "LayoutView",
            "align_content": null,
            "align_items": null,
            "align_self": null,
            "border": null,
            "bottom": null,
            "display": null,
            "flex": null,
            "flex_flow": null,
            "grid_area": null,
            "grid_auto_columns": null,
            "grid_auto_flow": null,
            "grid_auto_rows": null,
            "grid_column": null,
            "grid_gap": null,
            "grid_row": null,
            "grid_template_areas": null,
            "grid_template_columns": null,
            "grid_template_rows": null,
            "height": null,
            "justify_content": null,
            "justify_items": null,
            "left": null,
            "margin": null,
            "max_height": null,
            "max_width": null,
            "min_height": null,
            "min_width": null,
            "object_fit": null,
            "object_position": null,
            "order": null,
            "overflow": null,
            "overflow_x": null,
            "overflow_y": null,
            "padding": null,
            "right": null,
            "top": null,
            "visibility": null,
            "width": null
          }
        },
        "0d3a8d101882420d96247f79c72154ea": {
          "model_module": "@jupyter-widgets/controls",
          "model_name": "DescriptionStyleModel",
          "model_module_version": "1.5.0",
          "state": {
            "_model_module": "@jupyter-widgets/controls",
            "_model_module_version": "1.5.0",
            "_model_name": "DescriptionStyleModel",
            "_view_count": null,
            "_view_module": "@jupyter-widgets/base",
            "_view_module_version": "1.2.0",
            "_view_name": "StyleView",
            "description_width": ""
          }
        },
        "062a2f17dcf34162bbb9d80afbf2b781": {
          "model_module": "@jupyter-widgets/controls",
          "model_name": "HBoxModel",
          "model_module_version": "1.5.0",
          "state": {
            "_dom_classes": [],
            "_model_module": "@jupyter-widgets/controls",
            "_model_module_version": "1.5.0",
            "_model_name": "HBoxModel",
            "_view_count": null,
            "_view_module": "@jupyter-widgets/controls",
            "_view_module_version": "1.5.0",
            "_view_name": "HBoxView",
            "box_style": "",
            "children": [
              "IPY_MODEL_61d828aa06a14d07b9a61be37083834c",
              "IPY_MODEL_d1b405126f0242a9a6955c3a8723871d",
              "IPY_MODEL_f4839c8775934a6196f3ffc0defdddf5"
            ],
            "layout": "IPY_MODEL_c4265d31cd484e3fa68dd48d86ab5121"
          }
        },
        "61d828aa06a14d07b9a61be37083834c": {
          "model_module": "@jupyter-widgets/controls",
          "model_name": "HTMLModel",
          "model_module_version": "1.5.0",
          "state": {
            "_dom_classes": [],
            "_model_module": "@jupyter-widgets/controls",
            "_model_module_version": "1.5.0",
            "_model_name": "HTMLModel",
            "_view_count": null,
            "_view_module": "@jupyter-widgets/controls",
            "_view_module_version": "1.5.0",
            "_view_name": "HTMLView",
            "description": "",
            "description_tooltip": null,
            "layout": "IPY_MODEL_e184fc8974754f13ab4a75855025a85a",
            "placeholder": "​",
            "style": "IPY_MODEL_49c521ffcb2e49e1b8107f3cde200d73",
            "value": "model.safetensors: 100%"
          }
        },
        "d1b405126f0242a9a6955c3a8723871d": {
          "model_module": "@jupyter-widgets/controls",
          "model_name": "FloatProgressModel",
          "model_module_version": "1.5.0",
          "state": {
            "_dom_classes": [],
            "_model_module": "@jupyter-widgets/controls",
            "_model_module_version": "1.5.0",
            "_model_name": "FloatProgressModel",
            "_view_count": null,
            "_view_module": "@jupyter-widgets/controls",
            "_view_module_version": "1.5.0",
            "_view_name": "ProgressView",
            "bar_style": "success",
            "description": "",
            "description_tooltip": null,
            "layout": "IPY_MODEL_2b1ceba32f004d1d8effbbaed7e8503c",
            "max": 440449768,
            "min": 0,
            "orientation": "horizontal",
            "style": "IPY_MODEL_94df46e89aba4f6ba2398437a7858c5c",
            "value": 440449768
          }
        },
        "f4839c8775934a6196f3ffc0defdddf5": {
          "model_module": "@jupyter-widgets/controls",
          "model_name": "HTMLModel",
          "model_module_version": "1.5.0",
          "state": {
            "_dom_classes": [],
            "_model_module": "@jupyter-widgets/controls",
            "_model_module_version": "1.5.0",
            "_model_name": "HTMLModel",
            "_view_count": null,
            "_view_module": "@jupyter-widgets/controls",
            "_view_module_version": "1.5.0",
            "_view_name": "HTMLView",
            "description": "",
            "description_tooltip": null,
            "layout": "IPY_MODEL_794f82e919484b879c5ce7e310378f00",
            "placeholder": "​",
            "style": "IPY_MODEL_bb67548bb83e4534ab447b7e86d68129",
            "value": " 440M/440M [00:02&lt;00:00, 187MB/s]"
          }
        },
        "c4265d31cd484e3fa68dd48d86ab5121": {
          "model_module": "@jupyter-widgets/base",
          "model_name": "LayoutModel",
          "model_module_version": "1.2.0",
          "state": {
            "_model_module": "@jupyter-widgets/base",
            "_model_module_version": "1.2.0",
            "_model_name": "LayoutModel",
            "_view_count": null,
            "_view_module": "@jupyter-widgets/base",
            "_view_module_version": "1.2.0",
            "_view_name": "LayoutView",
            "align_content": null,
            "align_items": null,
            "align_self": null,
            "border": null,
            "bottom": null,
            "display": null,
            "flex": null,
            "flex_flow": null,
            "grid_area": null,
            "grid_auto_columns": null,
            "grid_auto_flow": null,
            "grid_auto_rows": null,
            "grid_column": null,
            "grid_gap": null,
            "grid_row": null,
            "grid_template_areas": null,
            "grid_template_columns": null,
            "grid_template_rows": null,
            "height": null,
            "justify_content": null,
            "justify_items": null,
            "left": null,
            "margin": null,
            "max_height": null,
            "max_width": null,
            "min_height": null,
            "min_width": null,
            "object_fit": null,
            "object_position": null,
            "order": null,
            "overflow": null,
            "overflow_x": null,
            "overflow_y": null,
            "padding": null,
            "right": null,
            "top": null,
            "visibility": null,
            "width": null
          }
        },
        "e184fc8974754f13ab4a75855025a85a": {
          "model_module": "@jupyter-widgets/base",
          "model_name": "LayoutModel",
          "model_module_version": "1.2.0",
          "state": {
            "_model_module": "@jupyter-widgets/base",
            "_model_module_version": "1.2.0",
            "_model_name": "LayoutModel",
            "_view_count": null,
            "_view_module": "@jupyter-widgets/base",
            "_view_module_version": "1.2.0",
            "_view_name": "LayoutView",
            "align_content": null,
            "align_items": null,
            "align_self": null,
            "border": null,
            "bottom": null,
            "display": null,
            "flex": null,
            "flex_flow": null,
            "grid_area": null,
            "grid_auto_columns": null,
            "grid_auto_flow": null,
            "grid_auto_rows": null,
            "grid_column": null,
            "grid_gap": null,
            "grid_row": null,
            "grid_template_areas": null,
            "grid_template_columns": null,
            "grid_template_rows": null,
            "height": null,
            "justify_content": null,
            "justify_items": null,
            "left": null,
            "margin": null,
            "max_height": null,
            "max_width": null,
            "min_height": null,
            "min_width": null,
            "object_fit": null,
            "object_position": null,
            "order": null,
            "overflow": null,
            "overflow_x": null,
            "overflow_y": null,
            "padding": null,
            "right": null,
            "top": null,
            "visibility": null,
            "width": null
          }
        },
        "49c521ffcb2e49e1b8107f3cde200d73": {
          "model_module": "@jupyter-widgets/controls",
          "model_name": "DescriptionStyleModel",
          "model_module_version": "1.5.0",
          "state": {
            "_model_module": "@jupyter-widgets/controls",
            "_model_module_version": "1.5.0",
            "_model_name": "DescriptionStyleModel",
            "_view_count": null,
            "_view_module": "@jupyter-widgets/base",
            "_view_module_version": "1.2.0",
            "_view_name": "StyleView",
            "description_width": ""
          }
        },
        "2b1ceba32f004d1d8effbbaed7e8503c": {
          "model_module": "@jupyter-widgets/base",
          "model_name": "LayoutModel",
          "model_module_version": "1.2.0",
          "state": {
            "_model_module": "@jupyter-widgets/base",
            "_model_module_version": "1.2.0",
            "_model_name": "LayoutModel",
            "_view_count": null,
            "_view_module": "@jupyter-widgets/base",
            "_view_module_version": "1.2.0",
            "_view_name": "LayoutView",
            "align_content": null,
            "align_items": null,
            "align_self": null,
            "border": null,
            "bottom": null,
            "display": null,
            "flex": null,
            "flex_flow": null,
            "grid_area": null,
            "grid_auto_columns": null,
            "grid_auto_flow": null,
            "grid_auto_rows": null,
            "grid_column": null,
            "grid_gap": null,
            "grid_row": null,
            "grid_template_areas": null,
            "grid_template_columns": null,
            "grid_template_rows": null,
            "height": null,
            "justify_content": null,
            "justify_items": null,
            "left": null,
            "margin": null,
            "max_height": null,
            "max_width": null,
            "min_height": null,
            "min_width": null,
            "object_fit": null,
            "object_position": null,
            "order": null,
            "overflow": null,
            "overflow_x": null,
            "overflow_y": null,
            "padding": null,
            "right": null,
            "top": null,
            "visibility": null,
            "width": null
          }
        },
        "94df46e89aba4f6ba2398437a7858c5c": {
          "model_module": "@jupyter-widgets/controls",
          "model_name": "ProgressStyleModel",
          "model_module_version": "1.5.0",
          "state": {
            "_model_module": "@jupyter-widgets/controls",
            "_model_module_version": "1.5.0",
            "_model_name": "ProgressStyleModel",
            "_view_count": null,
            "_view_module": "@jupyter-widgets/base",
            "_view_module_version": "1.2.0",
            "_view_name": "StyleView",
            "bar_color": null,
            "description_width": ""
          }
        },
        "794f82e919484b879c5ce7e310378f00": {
          "model_module": "@jupyter-widgets/base",
          "model_name": "LayoutModel",
          "model_module_version": "1.2.0",
          "state": {
            "_model_module": "@jupyter-widgets/base",
            "_model_module_version": "1.2.0",
            "_model_name": "LayoutModel",
            "_view_count": null,
            "_view_module": "@jupyter-widgets/base",
            "_view_module_version": "1.2.0",
            "_view_name": "LayoutView",
            "align_content": null,
            "align_items": null,
            "align_self": null,
            "border": null,
            "bottom": null,
            "display": null,
            "flex": null,
            "flex_flow": null,
            "grid_area": null,
            "grid_auto_columns": null,
            "grid_auto_flow": null,
            "grid_auto_rows": null,
            "grid_column": null,
            "grid_gap": null,
            "grid_row": null,
            "grid_template_areas": null,
            "grid_template_columns": null,
            "grid_template_rows": null,
            "height": null,
            "justify_content": null,
            "justify_items": null,
            "left": null,
            "margin": null,
            "max_height": null,
            "max_width": null,
            "min_height": null,
            "min_width": null,
            "object_fit": null,
            "object_position": null,
            "order": null,
            "overflow": null,
            "overflow_x": null,
            "overflow_y": null,
            "padding": null,
            "right": null,
            "top": null,
            "visibility": null,
            "width": null
          }
        },
        "bb67548bb83e4534ab447b7e86d68129": {
          "model_module": "@jupyter-widgets/controls",
          "model_name": "DescriptionStyleModel",
          "model_module_version": "1.5.0",
          "state": {
            "_model_module": "@jupyter-widgets/controls",
            "_model_module_version": "1.5.0",
            "_model_name": "DescriptionStyleModel",
            "_view_count": null,
            "_view_module": "@jupyter-widgets/base",
            "_view_module_version": "1.2.0",
            "_view_name": "StyleView",
            "description_width": ""
          }
        },
        "5b8ac42238474152a55851c3f0e0e732": {
          "model_module": "@jupyter-widgets/controls",
          "model_name": "HBoxModel",
          "model_module_version": "1.5.0",
          "state": {
            "_dom_classes": [],
            "_model_module": "@jupyter-widgets/controls",
            "_model_module_version": "1.5.0",
            "_model_name": "HBoxModel",
            "_view_count": null,
            "_view_module": "@jupyter-widgets/controls",
            "_view_module_version": "1.5.0",
            "_view_name": "HBoxView",
            "box_style": "",
            "children": [
              "IPY_MODEL_05d943eff1f64112a9d46b923a1331cf",
              "IPY_MODEL_2f8c41163f514630b6b2eb2203ea38b8",
              "IPY_MODEL_64841b1b5c24467689503f3c59addcfd"
            ],
            "layout": "IPY_MODEL_3101aed76fcb49498276d255d0187d8c"
          }
        },
        "05d943eff1f64112a9d46b923a1331cf": {
          "model_module": "@jupyter-widgets/controls",
          "model_name": "HTMLModel",
          "model_module_version": "1.5.0",
          "state": {
            "_dom_classes": [],
            "_model_module": "@jupyter-widgets/controls",
            "_model_module_version": "1.5.0",
            "_model_name": "HTMLModel",
            "_view_count": null,
            "_view_module": "@jupyter-widgets/controls",
            "_view_module_version": "1.5.0",
            "_view_name": "HTMLView",
            "description": "",
            "description_tooltip": null,
            "layout": "IPY_MODEL_6331386d584b43fa8634f1af9ab40748",
            "placeholder": "​",
            "style": "IPY_MODEL_77279208f19e4d27a42a449369a2b819",
            "value": "Downloading readme: 100%"
          }
        },
        "2f8c41163f514630b6b2eb2203ea38b8": {
          "model_module": "@jupyter-widgets/controls",
          "model_name": "FloatProgressModel",
          "model_module_version": "1.5.0",
          "state": {
            "_dom_classes": [],
            "_model_module": "@jupyter-widgets/controls",
            "_model_module_version": "1.5.0",
            "_model_name": "FloatProgressModel",
            "_view_count": null,
            "_view_module": "@jupyter-widgets/controls",
            "_view_module_version": "1.5.0",
            "_view_name": "ProgressView",
            "bar_style": "success",
            "description": "",
            "description_tooltip": null,
            "layout": "IPY_MODEL_749144965a1741119897178ee9c5b7c6",
            "max": 7620,
            "min": 0,
            "orientation": "horizontal",
            "style": "IPY_MODEL_5e0423e5baf44e76a9cc18ccbf0bc681",
            "value": 7620
          }
        },
        "64841b1b5c24467689503f3c59addcfd": {
          "model_module": "@jupyter-widgets/controls",
          "model_name": "HTMLModel",
          "model_module_version": "1.5.0",
          "state": {
            "_dom_classes": [],
            "_model_module": "@jupyter-widgets/controls",
            "_model_module_version": "1.5.0",
            "_model_name": "HTMLModel",
            "_view_count": null,
            "_view_module": "@jupyter-widgets/controls",
            "_view_module_version": "1.5.0",
            "_view_name": "HTMLView",
            "description": "",
            "description_tooltip": null,
            "layout": "IPY_MODEL_1d0f4d78d1de4e3698309eede314c7ce",
            "placeholder": "​",
            "style": "IPY_MODEL_8b4e66c0528d47fd908f265139613443",
            "value": " 7.62k/7.62k [00:00&lt;00:00, 137kB/s]"
          }
        },
        "3101aed76fcb49498276d255d0187d8c": {
          "model_module": "@jupyter-widgets/base",
          "model_name": "LayoutModel",
          "model_module_version": "1.2.0",
          "state": {
            "_model_module": "@jupyter-widgets/base",
            "_model_module_version": "1.2.0",
            "_model_name": "LayoutModel",
            "_view_count": null,
            "_view_module": "@jupyter-widgets/base",
            "_view_module_version": "1.2.0",
            "_view_name": "LayoutView",
            "align_content": null,
            "align_items": null,
            "align_self": null,
            "border": null,
            "bottom": null,
            "display": null,
            "flex": null,
            "flex_flow": null,
            "grid_area": null,
            "grid_auto_columns": null,
            "grid_auto_flow": null,
            "grid_auto_rows": null,
            "grid_column": null,
            "grid_gap": null,
            "grid_row": null,
            "grid_template_areas": null,
            "grid_template_columns": null,
            "grid_template_rows": null,
            "height": null,
            "justify_content": null,
            "justify_items": null,
            "left": null,
            "margin": null,
            "max_height": null,
            "max_width": null,
            "min_height": null,
            "min_width": null,
            "object_fit": null,
            "object_position": null,
            "order": null,
            "overflow": null,
            "overflow_x": null,
            "overflow_y": null,
            "padding": null,
            "right": null,
            "top": null,
            "visibility": null,
            "width": null
          }
        },
        "6331386d584b43fa8634f1af9ab40748": {
          "model_module": "@jupyter-widgets/base",
          "model_name": "LayoutModel",
          "model_module_version": "1.2.0",
          "state": {
            "_model_module": "@jupyter-widgets/base",
            "_model_module_version": "1.2.0",
            "_model_name": "LayoutModel",
            "_view_count": null,
            "_view_module": "@jupyter-widgets/base",
            "_view_module_version": "1.2.0",
            "_view_name": "LayoutView",
            "align_content": null,
            "align_items": null,
            "align_self": null,
            "border": null,
            "bottom": null,
            "display": null,
            "flex": null,
            "flex_flow": null,
            "grid_area": null,
            "grid_auto_columns": null,
            "grid_auto_flow": null,
            "grid_auto_rows": null,
            "grid_column": null,
            "grid_gap": null,
            "grid_row": null,
            "grid_template_areas": null,
            "grid_template_columns": null,
            "grid_template_rows": null,
            "height": null,
            "justify_content": null,
            "justify_items": null,
            "left": null,
            "margin": null,
            "max_height": null,
            "max_width": null,
            "min_height": null,
            "min_width": null,
            "object_fit": null,
            "object_position": null,
            "order": null,
            "overflow": null,
            "overflow_x": null,
            "overflow_y": null,
            "padding": null,
            "right": null,
            "top": null,
            "visibility": null,
            "width": null
          }
        },
        "77279208f19e4d27a42a449369a2b819": {
          "model_module": "@jupyter-widgets/controls",
          "model_name": "DescriptionStyleModel",
          "model_module_version": "1.5.0",
          "state": {
            "_model_module": "@jupyter-widgets/controls",
            "_model_module_version": "1.5.0",
            "_model_name": "DescriptionStyleModel",
            "_view_count": null,
            "_view_module": "@jupyter-widgets/base",
            "_view_module_version": "1.2.0",
            "_view_name": "StyleView",
            "description_width": ""
          }
        },
        "749144965a1741119897178ee9c5b7c6": {
          "model_module": "@jupyter-widgets/base",
          "model_name": "LayoutModel",
          "model_module_version": "1.2.0",
          "state": {
            "_model_module": "@jupyter-widgets/base",
            "_model_module_version": "1.2.0",
            "_model_name": "LayoutModel",
            "_view_count": null,
            "_view_module": "@jupyter-widgets/base",
            "_view_module_version": "1.2.0",
            "_view_name": "LayoutView",
            "align_content": null,
            "align_items": null,
            "align_self": null,
            "border": null,
            "bottom": null,
            "display": null,
            "flex": null,
            "flex_flow": null,
            "grid_area": null,
            "grid_auto_columns": null,
            "grid_auto_flow": null,
            "grid_auto_rows": null,
            "grid_column": null,
            "grid_gap": null,
            "grid_row": null,
            "grid_template_areas": null,
            "grid_template_columns": null,
            "grid_template_rows": null,
            "height": null,
            "justify_content": null,
            "justify_items": null,
            "left": null,
            "margin": null,
            "max_height": null,
            "max_width": null,
            "min_height": null,
            "min_width": null,
            "object_fit": null,
            "object_position": null,
            "order": null,
            "overflow": null,
            "overflow_x": null,
            "overflow_y": null,
            "padding": null,
            "right": null,
            "top": null,
            "visibility": null,
            "width": null
          }
        },
        "5e0423e5baf44e76a9cc18ccbf0bc681": {
          "model_module": "@jupyter-widgets/controls",
          "model_name": "ProgressStyleModel",
          "model_module_version": "1.5.0",
          "state": {
            "_model_module": "@jupyter-widgets/controls",
            "_model_module_version": "1.5.0",
            "_model_name": "ProgressStyleModel",
            "_view_count": null,
            "_view_module": "@jupyter-widgets/base",
            "_view_module_version": "1.2.0",
            "_view_name": "StyleView",
            "bar_color": null,
            "description_width": ""
          }
        },
        "1d0f4d78d1de4e3698309eede314c7ce": {
          "model_module": "@jupyter-widgets/base",
          "model_name": "LayoutModel",
          "model_module_version": "1.2.0",
          "state": {
            "_model_module": "@jupyter-widgets/base",
            "_model_module_version": "1.2.0",
            "_model_name": "LayoutModel",
            "_view_count": null,
            "_view_module": "@jupyter-widgets/base",
            "_view_module_version": "1.2.0",
            "_view_name": "LayoutView",
            "align_content": null,
            "align_items": null,
            "align_self": null,
            "border": null,
            "bottom": null,
            "display": null,
            "flex": null,
            "flex_flow": null,
            "grid_area": null,
            "grid_auto_columns": null,
            "grid_auto_flow": null,
            "grid_auto_rows": null,
            "grid_column": null,
            "grid_gap": null,
            "grid_row": null,
            "grid_template_areas": null,
            "grid_template_columns": null,
            "grid_template_rows": null,
            "height": null,
            "justify_content": null,
            "justify_items": null,
            "left": null,
            "margin": null,
            "max_height": null,
            "max_width": null,
            "min_height": null,
            "min_width": null,
            "object_fit": null,
            "object_position": null,
            "order": null,
            "overflow": null,
            "overflow_x": null,
            "overflow_y": null,
            "padding": null,
            "right": null,
            "top": null,
            "visibility": null,
            "width": null
          }
        },
        "8b4e66c0528d47fd908f265139613443": {
          "model_module": "@jupyter-widgets/controls",
          "model_name": "DescriptionStyleModel",
          "model_module_version": "1.5.0",
          "state": {
            "_model_module": "@jupyter-widgets/controls",
            "_model_module_version": "1.5.0",
            "_model_name": "DescriptionStyleModel",
            "_view_count": null,
            "_view_module": "@jupyter-widgets/base",
            "_view_module_version": "1.2.0",
            "_view_name": "StyleView",
            "description_width": ""
          }
        },
        "e00bfbfacbce43eebf1f1fddb8dfefbc": {
          "model_module": "@jupyter-widgets/controls",
          "model_name": "HBoxModel",
          "model_module_version": "1.5.0",
          "state": {
            "_dom_classes": [],
            "_model_module": "@jupyter-widgets/controls",
            "_model_module_version": "1.5.0",
            "_model_name": "HBoxModel",
            "_view_count": null,
            "_view_module": "@jupyter-widgets/controls",
            "_view_module_version": "1.5.0",
            "_view_name": "HBoxView",
            "box_style": "",
            "children": [
              "IPY_MODEL_ad317f364efd43fe83b9f0416d71cbc8",
              "IPY_MODEL_a601ec3827ab44a9a972d1537c25a1c8",
              "IPY_MODEL_683500ba6cb5479394251a236e166c1a"
            ],
            "layout": "IPY_MODEL_e568a032de0e43478f3bea9389c5d751"
          }
        },
        "ad317f364efd43fe83b9f0416d71cbc8": {
          "model_module": "@jupyter-widgets/controls",
          "model_name": "HTMLModel",
          "model_module_version": "1.5.0",
          "state": {
            "_dom_classes": [],
            "_model_module": "@jupyter-widgets/controls",
            "_model_module_version": "1.5.0",
            "_model_name": "HTMLModel",
            "_view_count": null,
            "_view_module": "@jupyter-widgets/controls",
            "_view_module_version": "1.5.0",
            "_view_name": "HTMLView",
            "description": "",
            "description_tooltip": null,
            "layout": "IPY_MODEL_1a940915512841b6939fed23b0d24bfb",
            "placeholder": "​",
            "style": "IPY_MODEL_c0b3adbc0c294678bb2e245726a52d14",
            "value": "Downloading data: 100%"
          }
        },
        "a601ec3827ab44a9a972d1537c25a1c8": {
          "model_module": "@jupyter-widgets/controls",
          "model_name": "FloatProgressModel",
          "model_module_version": "1.5.0",
          "state": {
            "_dom_classes": [],
            "_model_module": "@jupyter-widgets/controls",
            "_model_module_version": "1.5.0",
            "_model_name": "FloatProgressModel",
            "_view_count": null,
            "_view_module": "@jupyter-widgets/controls",
            "_view_module_version": "1.5.0",
            "_view_name": "ProgressView",
            "bar_style": "success",
            "description": "",
            "description_tooltip": null,
            "layout": "IPY_MODEL_1da210b743064425b0b7f2a54cfd794e",
            "max": 14458314,
            "min": 0,
            "orientation": "horizontal",
            "style": "IPY_MODEL_1b770f7740a4459584dfeba1e61c43ee",
            "value": 14458314
          }
        },
        "683500ba6cb5479394251a236e166c1a": {
          "model_module": "@jupyter-widgets/controls",
          "model_name": "HTMLModel",
          "model_module_version": "1.5.0",
          "state": {
            "_dom_classes": [],
            "_model_module": "@jupyter-widgets/controls",
            "_model_module_version": "1.5.0",
            "_model_name": "HTMLModel",
            "_view_count": null,
            "_view_module": "@jupyter-widgets/controls",
            "_view_module_version": "1.5.0",
            "_view_name": "HTMLView",
            "description": "",
            "description_tooltip": null,
            "layout": "IPY_MODEL_22e3161910a74d84b90a07a0e56843c5",
            "placeholder": "​",
            "style": "IPY_MODEL_c378bd171ddc43afa04474d0f0c30499",
            "value": " 14.5M/14.5M [00:01&lt;00:00, 12.9MB/s]"
          }
        },
        "e568a032de0e43478f3bea9389c5d751": {
          "model_module": "@jupyter-widgets/base",
          "model_name": "LayoutModel",
          "model_module_version": "1.2.0",
          "state": {
            "_model_module": "@jupyter-widgets/base",
            "_model_module_version": "1.2.0",
            "_model_name": "LayoutModel",
            "_view_count": null,
            "_view_module": "@jupyter-widgets/base",
            "_view_module_version": "1.2.0",
            "_view_name": "LayoutView",
            "align_content": null,
            "align_items": null,
            "align_self": null,
            "border": null,
            "bottom": null,
            "display": null,
            "flex": null,
            "flex_flow": null,
            "grid_area": null,
            "grid_auto_columns": null,
            "grid_auto_flow": null,
            "grid_auto_rows": null,
            "grid_column": null,
            "grid_gap": null,
            "grid_row": null,
            "grid_template_areas": null,
            "grid_template_columns": null,
            "grid_template_rows": null,
            "height": null,
            "justify_content": null,
            "justify_items": null,
            "left": null,
            "margin": null,
            "max_height": null,
            "max_width": null,
            "min_height": null,
            "min_width": null,
            "object_fit": null,
            "object_position": null,
            "order": null,
            "overflow": null,
            "overflow_x": null,
            "overflow_y": null,
            "padding": null,
            "right": null,
            "top": null,
            "visibility": null,
            "width": null
          }
        },
        "1a940915512841b6939fed23b0d24bfb": {
          "model_module": "@jupyter-widgets/base",
          "model_name": "LayoutModel",
          "model_module_version": "1.2.0",
          "state": {
            "_model_module": "@jupyter-widgets/base",
            "_model_module_version": "1.2.0",
            "_model_name": "LayoutModel",
            "_view_count": null,
            "_view_module": "@jupyter-widgets/base",
            "_view_module_version": "1.2.0",
            "_view_name": "LayoutView",
            "align_content": null,
            "align_items": null,
            "align_self": null,
            "border": null,
            "bottom": null,
            "display": null,
            "flex": null,
            "flex_flow": null,
            "grid_area": null,
            "grid_auto_columns": null,
            "grid_auto_flow": null,
            "grid_auto_rows": null,
            "grid_column": null,
            "grid_gap": null,
            "grid_row": null,
            "grid_template_areas": null,
            "grid_template_columns": null,
            "grid_template_rows": null,
            "height": null,
            "justify_content": null,
            "justify_items": null,
            "left": null,
            "margin": null,
            "max_height": null,
            "max_width": null,
            "min_height": null,
            "min_width": null,
            "object_fit": null,
            "object_position": null,
            "order": null,
            "overflow": null,
            "overflow_x": null,
            "overflow_y": null,
            "padding": null,
            "right": null,
            "top": null,
            "visibility": null,
            "width": null
          }
        },
        "c0b3adbc0c294678bb2e245726a52d14": {
          "model_module": "@jupyter-widgets/controls",
          "model_name": "DescriptionStyleModel",
          "model_module_version": "1.5.0",
          "state": {
            "_model_module": "@jupyter-widgets/controls",
            "_model_module_version": "1.5.0",
            "_model_name": "DescriptionStyleModel",
            "_view_count": null,
            "_view_module": "@jupyter-widgets/base",
            "_view_module_version": "1.2.0",
            "_view_name": "StyleView",
            "description_width": ""
          }
        },
        "1da210b743064425b0b7f2a54cfd794e": {
          "model_module": "@jupyter-widgets/base",
          "model_name": "LayoutModel",
          "model_module_version": "1.2.0",
          "state": {
            "_model_module": "@jupyter-widgets/base",
            "_model_module_version": "1.2.0",
            "_model_name": "LayoutModel",
            "_view_count": null,
            "_view_module": "@jupyter-widgets/base",
            "_view_module_version": "1.2.0",
            "_view_name": "LayoutView",
            "align_content": null,
            "align_items": null,
            "align_self": null,
            "border": null,
            "bottom": null,
            "display": null,
            "flex": null,
            "flex_flow": null,
            "grid_area": null,
            "grid_auto_columns": null,
            "grid_auto_flow": null,
            "grid_auto_rows": null,
            "grid_column": null,
            "grid_gap": null,
            "grid_row": null,
            "grid_template_areas": null,
            "grid_template_columns": null,
            "grid_template_rows": null,
            "height": null,
            "justify_content": null,
            "justify_items": null,
            "left": null,
            "margin": null,
            "max_height": null,
            "max_width": null,
            "min_height": null,
            "min_width": null,
            "object_fit": null,
            "object_position": null,
            "order": null,
            "overflow": null,
            "overflow_x": null,
            "overflow_y": null,
            "padding": null,
            "right": null,
            "top": null,
            "visibility": null,
            "width": null
          }
        },
        "1b770f7740a4459584dfeba1e61c43ee": {
          "model_module": "@jupyter-widgets/controls",
          "model_name": "ProgressStyleModel",
          "model_module_version": "1.5.0",
          "state": {
            "_model_module": "@jupyter-widgets/controls",
            "_model_module_version": "1.5.0",
            "_model_name": "ProgressStyleModel",
            "_view_count": null,
            "_view_module": "@jupyter-widgets/base",
            "_view_module_version": "1.2.0",
            "_view_name": "StyleView",
            "bar_color": null,
            "description_width": ""
          }
        },
        "22e3161910a74d84b90a07a0e56843c5": {
          "model_module": "@jupyter-widgets/base",
          "model_name": "LayoutModel",
          "model_module_version": "1.2.0",
          "state": {
            "_model_module": "@jupyter-widgets/base",
            "_model_module_version": "1.2.0",
            "_model_name": "LayoutModel",
            "_view_count": null,
            "_view_module": "@jupyter-widgets/base",
            "_view_module_version": "1.2.0",
            "_view_name": "LayoutView",
            "align_content": null,
            "align_items": null,
            "align_self": null,
            "border": null,
            "bottom": null,
            "display": null,
            "flex": null,
            "flex_flow": null,
            "grid_area": null,
            "grid_auto_columns": null,
            "grid_auto_flow": null,
            "grid_auto_rows": null,
            "grid_column": null,
            "grid_gap": null,
            "grid_row": null,
            "grid_template_areas": null,
            "grid_template_columns": null,
            "grid_template_rows": null,
            "height": null,
            "justify_content": null,
            "justify_items": null,
            "left": null,
            "margin": null,
            "max_height": null,
            "max_width": null,
            "min_height": null,
            "min_width": null,
            "object_fit": null,
            "object_position": null,
            "order": null,
            "overflow": null,
            "overflow_x": null,
            "overflow_y": null,
            "padding": null,
            "right": null,
            "top": null,
            "visibility": null,
            "width": null
          }
        },
        "c378bd171ddc43afa04474d0f0c30499": {
          "model_module": "@jupyter-widgets/controls",
          "model_name": "DescriptionStyleModel",
          "model_module_version": "1.5.0",
          "state": {
            "_model_module": "@jupyter-widgets/controls",
            "_model_module_version": "1.5.0",
            "_model_name": "DescriptionStyleModel",
            "_view_count": null,
            "_view_module": "@jupyter-widgets/base",
            "_view_module_version": "1.2.0",
            "_view_name": "StyleView",
            "description_width": ""
          }
        },
        "d1d5dc7af5f844bf9fe483d681bfb574": {
          "model_module": "@jupyter-widgets/controls",
          "model_name": "HBoxModel",
          "model_module_version": "1.5.0",
          "state": {
            "_dom_classes": [],
            "_model_module": "@jupyter-widgets/controls",
            "_model_module_version": "1.5.0",
            "_model_name": "HBoxModel",
            "_view_count": null,
            "_view_module": "@jupyter-widgets/controls",
            "_view_module_version": "1.5.0",
            "_view_name": "HBoxView",
            "box_style": "",
            "children": [
              "IPY_MODEL_f14e21f2ecfa4d908cff1619799d2612",
              "IPY_MODEL_c808dbbb57384b27ba56b1bb61805d7b",
              "IPY_MODEL_660b7f13df3b4d36b02e707754978c7b"
            ],
            "layout": "IPY_MODEL_a7845b02b5a340f09d4f4b3b329cd0b3"
          }
        },
        "f14e21f2ecfa4d908cff1619799d2612": {
          "model_module": "@jupyter-widgets/controls",
          "model_name": "HTMLModel",
          "model_module_version": "1.5.0",
          "state": {
            "_dom_classes": [],
            "_model_module": "@jupyter-widgets/controls",
            "_model_module_version": "1.5.0",
            "_model_name": "HTMLModel",
            "_view_count": null,
            "_view_module": "@jupyter-widgets/controls",
            "_view_module_version": "1.5.0",
            "_view_name": "HTMLView",
            "description": "",
            "description_tooltip": null,
            "layout": "IPY_MODEL_5a45b92f14de4382a68e2a192c926d1a",
            "placeholder": "​",
            "style": "IPY_MODEL_882d35efc9c6447594a03b0374291949",
            "value": "Downloading data: 100%"
          }
        },
        "c808dbbb57384b27ba56b1bb61805d7b": {
          "model_module": "@jupyter-widgets/controls",
          "model_name": "FloatProgressModel",
          "model_module_version": "1.5.0",
          "state": {
            "_dom_classes": [],
            "_model_module": "@jupyter-widgets/controls",
            "_model_module_version": "1.5.0",
            "_model_name": "FloatProgressModel",
            "_view_count": null,
            "_view_module": "@jupyter-widgets/controls",
            "_view_module_version": "1.5.0",
            "_view_name": "ProgressView",
            "bar_style": "success",
            "description": "",
            "description_tooltip": null,
            "layout": "IPY_MODEL_d6da6a5330ff4f65aa7366c4d742ae9a",
            "max": 1819889,
            "min": 0,
            "orientation": "horizontal",
            "style": "IPY_MODEL_7aeb8e4f722347ffa30db980b5c13829",
            "value": 1819889
          }
        },
        "660b7f13df3b4d36b02e707754978c7b": {
          "model_module": "@jupyter-widgets/controls",
          "model_name": "HTMLModel",
          "model_module_version": "1.5.0",
          "state": {
            "_dom_classes": [],
            "_model_module": "@jupyter-widgets/controls",
            "_model_module_version": "1.5.0",
            "_model_name": "HTMLModel",
            "_view_count": null,
            "_view_module": "@jupyter-widgets/controls",
            "_view_module_version": "1.5.0",
            "_view_name": "HTMLView",
            "description": "",
            "description_tooltip": null,
            "layout": "IPY_MODEL_1ef96a6c2e9a446fb919da68fa911f63",
            "placeholder": "​",
            "style": "IPY_MODEL_088ee3c58f6144ec9c59bcfce24f8e6c",
            "value": " 1.82M/1.82M [00:00&lt;00:00, 5.95MB/s]"
          }
        },
        "a7845b02b5a340f09d4f4b3b329cd0b3": {
          "model_module": "@jupyter-widgets/base",
          "model_name": "LayoutModel",
          "model_module_version": "1.2.0",
          "state": {
            "_model_module": "@jupyter-widgets/base",
            "_model_module_version": "1.2.0",
            "_model_name": "LayoutModel",
            "_view_count": null,
            "_view_module": "@jupyter-widgets/base",
            "_view_module_version": "1.2.0",
            "_view_name": "LayoutView",
            "align_content": null,
            "align_items": null,
            "align_self": null,
            "border": null,
            "bottom": null,
            "display": null,
            "flex": null,
            "flex_flow": null,
            "grid_area": null,
            "grid_auto_columns": null,
            "grid_auto_flow": null,
            "grid_auto_rows": null,
            "grid_column": null,
            "grid_gap": null,
            "grid_row": null,
            "grid_template_areas": null,
            "grid_template_columns": null,
            "grid_template_rows": null,
            "height": null,
            "justify_content": null,
            "justify_items": null,
            "left": null,
            "margin": null,
            "max_height": null,
            "max_width": null,
            "min_height": null,
            "min_width": null,
            "object_fit": null,
            "object_position": null,
            "order": null,
            "overflow": null,
            "overflow_x": null,
            "overflow_y": null,
            "padding": null,
            "right": null,
            "top": null,
            "visibility": null,
            "width": null
          }
        },
        "5a45b92f14de4382a68e2a192c926d1a": {
          "model_module": "@jupyter-widgets/base",
          "model_name": "LayoutModel",
          "model_module_version": "1.2.0",
          "state": {
            "_model_module": "@jupyter-widgets/base",
            "_model_module_version": "1.2.0",
            "_model_name": "LayoutModel",
            "_view_count": null,
            "_view_module": "@jupyter-widgets/base",
            "_view_module_version": "1.2.0",
            "_view_name": "LayoutView",
            "align_content": null,
            "align_items": null,
            "align_self": null,
            "border": null,
            "bottom": null,
            "display": null,
            "flex": null,
            "flex_flow": null,
            "grid_area": null,
            "grid_auto_columns": null,
            "grid_auto_flow": null,
            "grid_auto_rows": null,
            "grid_column": null,
            "grid_gap": null,
            "grid_row": null,
            "grid_template_areas": null,
            "grid_template_columns": null,
            "grid_template_rows": null,
            "height": null,
            "justify_content": null,
            "justify_items": null,
            "left": null,
            "margin": null,
            "max_height": null,
            "max_width": null,
            "min_height": null,
            "min_width": null,
            "object_fit": null,
            "object_position": null,
            "order": null,
            "overflow": null,
            "overflow_x": null,
            "overflow_y": null,
            "padding": null,
            "right": null,
            "top": null,
            "visibility": null,
            "width": null
          }
        },
        "882d35efc9c6447594a03b0374291949": {
          "model_module": "@jupyter-widgets/controls",
          "model_name": "DescriptionStyleModel",
          "model_module_version": "1.5.0",
          "state": {
            "_model_module": "@jupyter-widgets/controls",
            "_model_module_version": "1.5.0",
            "_model_name": "DescriptionStyleModel",
            "_view_count": null,
            "_view_module": "@jupyter-widgets/base",
            "_view_module_version": "1.2.0",
            "_view_name": "StyleView",
            "description_width": ""
          }
        },
        "d6da6a5330ff4f65aa7366c4d742ae9a": {
          "model_module": "@jupyter-widgets/base",
          "model_name": "LayoutModel",
          "model_module_version": "1.2.0",
          "state": {
            "_model_module": "@jupyter-widgets/base",
            "_model_module_version": "1.2.0",
            "_model_name": "LayoutModel",
            "_view_count": null,
            "_view_module": "@jupyter-widgets/base",
            "_view_module_version": "1.2.0",
            "_view_name": "LayoutView",
            "align_content": null,
            "align_items": null,
            "align_self": null,
            "border": null,
            "bottom": null,
            "display": null,
            "flex": null,
            "flex_flow": null,
            "grid_area": null,
            "grid_auto_columns": null,
            "grid_auto_flow": null,
            "grid_auto_rows": null,
            "grid_column": null,
            "grid_gap": null,
            "grid_row": null,
            "grid_template_areas": null,
            "grid_template_columns": null,
            "grid_template_rows": null,
            "height": null,
            "justify_content": null,
            "justify_items": null,
            "left": null,
            "margin": null,
            "max_height": null,
            "max_width": null,
            "min_height": null,
            "min_width": null,
            "object_fit": null,
            "object_position": null,
            "order": null,
            "overflow": null,
            "overflow_x": null,
            "overflow_y": null,
            "padding": null,
            "right": null,
            "top": null,
            "visibility": null,
            "width": null
          }
        },
        "7aeb8e4f722347ffa30db980b5c13829": {
          "model_module": "@jupyter-widgets/controls",
          "model_name": "ProgressStyleModel",
          "model_module_version": "1.5.0",
          "state": {
            "_model_module": "@jupyter-widgets/controls",
            "_model_module_version": "1.5.0",
            "_model_name": "ProgressStyleModel",
            "_view_count": null,
            "_view_module": "@jupyter-widgets/base",
            "_view_module_version": "1.2.0",
            "_view_name": "StyleView",
            "bar_color": null,
            "description_width": ""
          }
        },
        "1ef96a6c2e9a446fb919da68fa911f63": {
          "model_module": "@jupyter-widgets/base",
          "model_name": "LayoutModel",
          "model_module_version": "1.2.0",
          "state": {
            "_model_module": "@jupyter-widgets/base",
            "_model_module_version": "1.2.0",
            "_model_name": "LayoutModel",
            "_view_count": null,
            "_view_module": "@jupyter-widgets/base",
            "_view_module_version": "1.2.0",
            "_view_name": "LayoutView",
            "align_content": null,
            "align_items": null,
            "align_self": null,
            "border": null,
            "bottom": null,
            "display": null,
            "flex": null,
            "flex_flow": null,
            "grid_area": null,
            "grid_auto_columns": null,
            "grid_auto_flow": null,
            "grid_auto_rows": null,
            "grid_column": null,
            "grid_gap": null,
            "grid_row": null,
            "grid_template_areas": null,
            "grid_template_columns": null,
            "grid_template_rows": null,
            "height": null,
            "justify_content": null,
            "justify_items": null,
            "left": null,
            "margin": null,
            "max_height": null,
            "max_width": null,
            "min_height": null,
            "min_width": null,
            "object_fit": null,
            "object_position": null,
            "order": null,
            "overflow": null,
            "overflow_x": null,
            "overflow_y": null,
            "padding": null,
            "right": null,
            "top": null,
            "visibility": null,
            "width": null
          }
        },
        "088ee3c58f6144ec9c59bcfce24f8e6c": {
          "model_module": "@jupyter-widgets/controls",
          "model_name": "DescriptionStyleModel",
          "model_module_version": "1.5.0",
          "state": {
            "_model_module": "@jupyter-widgets/controls",
            "_model_module_version": "1.5.0",
            "_model_name": "DescriptionStyleModel",
            "_view_count": null,
            "_view_module": "@jupyter-widgets/base",
            "_view_module_version": "1.2.0",
            "_view_name": "StyleView",
            "description_width": ""
          }
        },
        "9dbd372b19ed4025b67f1f3be6b1368d": {
          "model_module": "@jupyter-widgets/controls",
          "model_name": "HBoxModel",
          "model_module_version": "1.5.0",
          "state": {
            "_dom_classes": [],
            "_model_module": "@jupyter-widgets/controls",
            "_model_module_version": "1.5.0",
            "_model_name": "HBoxModel",
            "_view_count": null,
            "_view_module": "@jupyter-widgets/controls",
            "_view_module_version": "1.5.0",
            "_view_name": "HBoxView",
            "box_style": "",
            "children": [
              "IPY_MODEL_5945f33f4d61468091e36e8ce6d8c440",
              "IPY_MODEL_5f6a56056e50485ba819283fb4c82ad8",
              "IPY_MODEL_4242f707652f4a59b44d55c1ef237d81"
            ],
            "layout": "IPY_MODEL_2fcf70965668414989b17e68938c9cd6"
          }
        },
        "5945f33f4d61468091e36e8ce6d8c440": {
          "model_module": "@jupyter-widgets/controls",
          "model_name": "HTMLModel",
          "model_module_version": "1.5.0",
          "state": {
            "_dom_classes": [],
            "_model_module": "@jupyter-widgets/controls",
            "_model_module_version": "1.5.0",
            "_model_name": "HTMLModel",
            "_view_count": null,
            "_view_module": "@jupyter-widgets/controls",
            "_view_module_version": "1.5.0",
            "_view_name": "HTMLView",
            "description": "",
            "description_tooltip": null,
            "layout": "IPY_MODEL_4664ab7d3b284615a650e8d6c1d51429",
            "placeholder": "​",
            "style": "IPY_MODEL_4b3b27288a694b78bdba43043141c5f2",
            "value": "Generating train split: 100%"
          }
        },
        "5f6a56056e50485ba819283fb4c82ad8": {
          "model_module": "@jupyter-widgets/controls",
          "model_name": "FloatProgressModel",
          "model_module_version": "1.5.0",
          "state": {
            "_dom_classes": [],
            "_model_module": "@jupyter-widgets/controls",
            "_model_module_version": "1.5.0",
            "_model_name": "FloatProgressModel",
            "_view_count": null,
            "_view_module": "@jupyter-widgets/controls",
            "_view_module_version": "1.5.0",
            "_view_name": "ProgressView",
            "bar_style": "success",
            "description": "",
            "description_tooltip": null,
            "layout": "IPY_MODEL_dd2fd5b9ea5c4695abd4e5110122c4f0",
            "max": 87599,
            "min": 0,
            "orientation": "horizontal",
            "style": "IPY_MODEL_a50bca3a251541bfa5362ac5588a3a87",
            "value": 87599
          }
        },
        "4242f707652f4a59b44d55c1ef237d81": {
          "model_module": "@jupyter-widgets/controls",
          "model_name": "HTMLModel",
          "model_module_version": "1.5.0",
          "state": {
            "_dom_classes": [],
            "_model_module": "@jupyter-widgets/controls",
            "_model_module_version": "1.5.0",
            "_model_name": "HTMLModel",
            "_view_count": null,
            "_view_module": "@jupyter-widgets/controls",
            "_view_module_version": "1.5.0",
            "_view_name": "HTMLView",
            "description": "",
            "description_tooltip": null,
            "layout": "IPY_MODEL_2e9aad2a5e364cb8a8ef5d615b672afa",
            "placeholder": "​",
            "style": "IPY_MODEL_7f6d55ace65a44259639b4a88599271d",
            "value": " 87599/87599 [00:01&lt;00:00, 85545.15 examples/s]"
          }
        },
        "2fcf70965668414989b17e68938c9cd6": {
          "model_module": "@jupyter-widgets/base",
          "model_name": "LayoutModel",
          "model_module_version": "1.2.0",
          "state": {
            "_model_module": "@jupyter-widgets/base",
            "_model_module_version": "1.2.0",
            "_model_name": "LayoutModel",
            "_view_count": null,
            "_view_module": "@jupyter-widgets/base",
            "_view_module_version": "1.2.0",
            "_view_name": "LayoutView",
            "align_content": null,
            "align_items": null,
            "align_self": null,
            "border": null,
            "bottom": null,
            "display": null,
            "flex": null,
            "flex_flow": null,
            "grid_area": null,
            "grid_auto_columns": null,
            "grid_auto_flow": null,
            "grid_auto_rows": null,
            "grid_column": null,
            "grid_gap": null,
            "grid_row": null,
            "grid_template_areas": null,
            "grid_template_columns": null,
            "grid_template_rows": null,
            "height": null,
            "justify_content": null,
            "justify_items": null,
            "left": null,
            "margin": null,
            "max_height": null,
            "max_width": null,
            "min_height": null,
            "min_width": null,
            "object_fit": null,
            "object_position": null,
            "order": null,
            "overflow": null,
            "overflow_x": null,
            "overflow_y": null,
            "padding": null,
            "right": null,
            "top": null,
            "visibility": null,
            "width": null
          }
        },
        "4664ab7d3b284615a650e8d6c1d51429": {
          "model_module": "@jupyter-widgets/base",
          "model_name": "LayoutModel",
          "model_module_version": "1.2.0",
          "state": {
            "_model_module": "@jupyter-widgets/base",
            "_model_module_version": "1.2.0",
            "_model_name": "LayoutModel",
            "_view_count": null,
            "_view_module": "@jupyter-widgets/base",
            "_view_module_version": "1.2.0",
            "_view_name": "LayoutView",
            "align_content": null,
            "align_items": null,
            "align_self": null,
            "border": null,
            "bottom": null,
            "display": null,
            "flex": null,
            "flex_flow": null,
            "grid_area": null,
            "grid_auto_columns": null,
            "grid_auto_flow": null,
            "grid_auto_rows": null,
            "grid_column": null,
            "grid_gap": null,
            "grid_row": null,
            "grid_template_areas": null,
            "grid_template_columns": null,
            "grid_template_rows": null,
            "height": null,
            "justify_content": null,
            "justify_items": null,
            "left": null,
            "margin": null,
            "max_height": null,
            "max_width": null,
            "min_height": null,
            "min_width": null,
            "object_fit": null,
            "object_position": null,
            "order": null,
            "overflow": null,
            "overflow_x": null,
            "overflow_y": null,
            "padding": null,
            "right": null,
            "top": null,
            "visibility": null,
            "width": null
          }
        },
        "4b3b27288a694b78bdba43043141c5f2": {
          "model_module": "@jupyter-widgets/controls",
          "model_name": "DescriptionStyleModel",
          "model_module_version": "1.5.0",
          "state": {
            "_model_module": "@jupyter-widgets/controls",
            "_model_module_version": "1.5.0",
            "_model_name": "DescriptionStyleModel",
            "_view_count": null,
            "_view_module": "@jupyter-widgets/base",
            "_view_module_version": "1.2.0",
            "_view_name": "StyleView",
            "description_width": ""
          }
        },
        "dd2fd5b9ea5c4695abd4e5110122c4f0": {
          "model_module": "@jupyter-widgets/base",
          "model_name": "LayoutModel",
          "model_module_version": "1.2.0",
          "state": {
            "_model_module": "@jupyter-widgets/base",
            "_model_module_version": "1.2.0",
            "_model_name": "LayoutModel",
            "_view_count": null,
            "_view_module": "@jupyter-widgets/base",
            "_view_module_version": "1.2.0",
            "_view_name": "LayoutView",
            "align_content": null,
            "align_items": null,
            "align_self": null,
            "border": null,
            "bottom": null,
            "display": null,
            "flex": null,
            "flex_flow": null,
            "grid_area": null,
            "grid_auto_columns": null,
            "grid_auto_flow": null,
            "grid_auto_rows": null,
            "grid_column": null,
            "grid_gap": null,
            "grid_row": null,
            "grid_template_areas": null,
            "grid_template_columns": null,
            "grid_template_rows": null,
            "height": null,
            "justify_content": null,
            "justify_items": null,
            "left": null,
            "margin": null,
            "max_height": null,
            "max_width": null,
            "min_height": null,
            "min_width": null,
            "object_fit": null,
            "object_position": null,
            "order": null,
            "overflow": null,
            "overflow_x": null,
            "overflow_y": null,
            "padding": null,
            "right": null,
            "top": null,
            "visibility": null,
            "width": null
          }
        },
        "a50bca3a251541bfa5362ac5588a3a87": {
          "model_module": "@jupyter-widgets/controls",
          "model_name": "ProgressStyleModel",
          "model_module_version": "1.5.0",
          "state": {
            "_model_module": "@jupyter-widgets/controls",
            "_model_module_version": "1.5.0",
            "_model_name": "ProgressStyleModel",
            "_view_count": null,
            "_view_module": "@jupyter-widgets/base",
            "_view_module_version": "1.2.0",
            "_view_name": "StyleView",
            "bar_color": null,
            "description_width": ""
          }
        },
        "2e9aad2a5e364cb8a8ef5d615b672afa": {
          "model_module": "@jupyter-widgets/base",
          "model_name": "LayoutModel",
          "model_module_version": "1.2.0",
          "state": {
            "_model_module": "@jupyter-widgets/base",
            "_model_module_version": "1.2.0",
            "_model_name": "LayoutModel",
            "_view_count": null,
            "_view_module": "@jupyter-widgets/base",
            "_view_module_version": "1.2.0",
            "_view_name": "LayoutView",
            "align_content": null,
            "align_items": null,
            "align_self": null,
            "border": null,
            "bottom": null,
            "display": null,
            "flex": null,
            "flex_flow": null,
            "grid_area": null,
            "grid_auto_columns": null,
            "grid_auto_flow": null,
            "grid_auto_rows": null,
            "grid_column": null,
            "grid_gap": null,
            "grid_row": null,
            "grid_template_areas": null,
            "grid_template_columns": null,
            "grid_template_rows": null,
            "height": null,
            "justify_content": null,
            "justify_items": null,
            "left": null,
            "margin": null,
            "max_height": null,
            "max_width": null,
            "min_height": null,
            "min_width": null,
            "object_fit": null,
            "object_position": null,
            "order": null,
            "overflow": null,
            "overflow_x": null,
            "overflow_y": null,
            "padding": null,
            "right": null,
            "top": null,
            "visibility": null,
            "width": null
          }
        },
        "7f6d55ace65a44259639b4a88599271d": {
          "model_module": "@jupyter-widgets/controls",
          "model_name": "DescriptionStyleModel",
          "model_module_version": "1.5.0",
          "state": {
            "_model_module": "@jupyter-widgets/controls",
            "_model_module_version": "1.5.0",
            "_model_name": "DescriptionStyleModel",
            "_view_count": null,
            "_view_module": "@jupyter-widgets/base",
            "_view_module_version": "1.2.0",
            "_view_name": "StyleView",
            "description_width": ""
          }
        },
        "cd1a080e3a1a47a79d0ba25ae81f73fa": {
          "model_module": "@jupyter-widgets/controls",
          "model_name": "HBoxModel",
          "model_module_version": "1.5.0",
          "state": {
            "_dom_classes": [],
            "_model_module": "@jupyter-widgets/controls",
            "_model_module_version": "1.5.0",
            "_model_name": "HBoxModel",
            "_view_count": null,
            "_view_module": "@jupyter-widgets/controls",
            "_view_module_version": "1.5.0",
            "_view_name": "HBoxView",
            "box_style": "",
            "children": [
              "IPY_MODEL_705d41d0f61749dca5c6561cf1ae62bb",
              "IPY_MODEL_7f07dcc97cba4245a0b3f4d8b8f04ffb",
              "IPY_MODEL_2d57f56ef3764f208339d53fd2058197"
            ],
            "layout": "IPY_MODEL_b9239b0cd0fc4d64b5b00594f7392c01"
          }
        },
        "705d41d0f61749dca5c6561cf1ae62bb": {
          "model_module": "@jupyter-widgets/controls",
          "model_name": "HTMLModel",
          "model_module_version": "1.5.0",
          "state": {
            "_dom_classes": [],
            "_model_module": "@jupyter-widgets/controls",
            "_model_module_version": "1.5.0",
            "_model_name": "HTMLModel",
            "_view_count": null,
            "_view_module": "@jupyter-widgets/controls",
            "_view_module_version": "1.5.0",
            "_view_name": "HTMLView",
            "description": "",
            "description_tooltip": null,
            "layout": "IPY_MODEL_a049c4fe233f4bb0b03553a9156a5661",
            "placeholder": "​",
            "style": "IPY_MODEL_25624812b315400b8f36172756d02a68",
            "value": "Generating validation split: 100%"
          }
        },
        "7f07dcc97cba4245a0b3f4d8b8f04ffb": {
          "model_module": "@jupyter-widgets/controls",
          "model_name": "FloatProgressModel",
          "model_module_version": "1.5.0",
          "state": {
            "_dom_classes": [],
            "_model_module": "@jupyter-widgets/controls",
            "_model_module_version": "1.5.0",
            "_model_name": "FloatProgressModel",
            "_view_count": null,
            "_view_module": "@jupyter-widgets/controls",
            "_view_module_version": "1.5.0",
            "_view_name": "ProgressView",
            "bar_style": "success",
            "description": "",
            "description_tooltip": null,
            "layout": "IPY_MODEL_3308dd5994e441e7b816752905979c84",
            "max": 10570,
            "min": 0,
            "orientation": "horizontal",
            "style": "IPY_MODEL_b2c66a6aafbc412dbd3d6330e00c8b09",
            "value": 10570
          }
        },
        "2d57f56ef3764f208339d53fd2058197": {
          "model_module": "@jupyter-widgets/controls",
          "model_name": "HTMLModel",
          "model_module_version": "1.5.0",
          "state": {
            "_dom_classes": [],
            "_model_module": "@jupyter-widgets/controls",
            "_model_module_version": "1.5.0",
            "_model_name": "HTMLModel",
            "_view_count": null,
            "_view_module": "@jupyter-widgets/controls",
            "_view_module_version": "1.5.0",
            "_view_name": "HTMLView",
            "description": "",
            "description_tooltip": null,
            "layout": "IPY_MODEL_8371d751ab394fe9b5160c776b14d966",
            "placeholder": "​",
            "style": "IPY_MODEL_d7f74c0febac428985d4569d948470a3",
            "value": " 10570/10570 [00:00&lt;00:00, 37710.32 examples/s]"
          }
        },
        "b9239b0cd0fc4d64b5b00594f7392c01": {
          "model_module": "@jupyter-widgets/base",
          "model_name": "LayoutModel",
          "model_module_version": "1.2.0",
          "state": {
            "_model_module": "@jupyter-widgets/base",
            "_model_module_version": "1.2.0",
            "_model_name": "LayoutModel",
            "_view_count": null,
            "_view_module": "@jupyter-widgets/base",
            "_view_module_version": "1.2.0",
            "_view_name": "LayoutView",
            "align_content": null,
            "align_items": null,
            "align_self": null,
            "border": null,
            "bottom": null,
            "display": null,
            "flex": null,
            "flex_flow": null,
            "grid_area": null,
            "grid_auto_columns": null,
            "grid_auto_flow": null,
            "grid_auto_rows": null,
            "grid_column": null,
            "grid_gap": null,
            "grid_row": null,
            "grid_template_areas": null,
            "grid_template_columns": null,
            "grid_template_rows": null,
            "height": null,
            "justify_content": null,
            "justify_items": null,
            "left": null,
            "margin": null,
            "max_height": null,
            "max_width": null,
            "min_height": null,
            "min_width": null,
            "object_fit": null,
            "object_position": null,
            "order": null,
            "overflow": null,
            "overflow_x": null,
            "overflow_y": null,
            "padding": null,
            "right": null,
            "top": null,
            "visibility": null,
            "width": null
          }
        },
        "a049c4fe233f4bb0b03553a9156a5661": {
          "model_module": "@jupyter-widgets/base",
          "model_name": "LayoutModel",
          "model_module_version": "1.2.0",
          "state": {
            "_model_module": "@jupyter-widgets/base",
            "_model_module_version": "1.2.0",
            "_model_name": "LayoutModel",
            "_view_count": null,
            "_view_module": "@jupyter-widgets/base",
            "_view_module_version": "1.2.0",
            "_view_name": "LayoutView",
            "align_content": null,
            "align_items": null,
            "align_self": null,
            "border": null,
            "bottom": null,
            "display": null,
            "flex": null,
            "flex_flow": null,
            "grid_area": null,
            "grid_auto_columns": null,
            "grid_auto_flow": null,
            "grid_auto_rows": null,
            "grid_column": null,
            "grid_gap": null,
            "grid_row": null,
            "grid_template_areas": null,
            "grid_template_columns": null,
            "grid_template_rows": null,
            "height": null,
            "justify_content": null,
            "justify_items": null,
            "left": null,
            "margin": null,
            "max_height": null,
            "max_width": null,
            "min_height": null,
            "min_width": null,
            "object_fit": null,
            "object_position": null,
            "order": null,
            "overflow": null,
            "overflow_x": null,
            "overflow_y": null,
            "padding": null,
            "right": null,
            "top": null,
            "visibility": null,
            "width": null
          }
        },
        "25624812b315400b8f36172756d02a68": {
          "model_module": "@jupyter-widgets/controls",
          "model_name": "DescriptionStyleModel",
          "model_module_version": "1.5.0",
          "state": {
            "_model_module": "@jupyter-widgets/controls",
            "_model_module_version": "1.5.0",
            "_model_name": "DescriptionStyleModel",
            "_view_count": null,
            "_view_module": "@jupyter-widgets/base",
            "_view_module_version": "1.2.0",
            "_view_name": "StyleView",
            "description_width": ""
          }
        },
        "3308dd5994e441e7b816752905979c84": {
          "model_module": "@jupyter-widgets/base",
          "model_name": "LayoutModel",
          "model_module_version": "1.2.0",
          "state": {
            "_model_module": "@jupyter-widgets/base",
            "_model_module_version": "1.2.0",
            "_model_name": "LayoutModel",
            "_view_count": null,
            "_view_module": "@jupyter-widgets/base",
            "_view_module_version": "1.2.0",
            "_view_name": "LayoutView",
            "align_content": null,
            "align_items": null,
            "align_self": null,
            "border": null,
            "bottom": null,
            "display": null,
            "flex": null,
            "flex_flow": null,
            "grid_area": null,
            "grid_auto_columns": null,
            "grid_auto_flow": null,
            "grid_auto_rows": null,
            "grid_column": null,
            "grid_gap": null,
            "grid_row": null,
            "grid_template_areas": null,
            "grid_template_columns": null,
            "grid_template_rows": null,
            "height": null,
            "justify_content": null,
            "justify_items": null,
            "left": null,
            "margin": null,
            "max_height": null,
            "max_width": null,
            "min_height": null,
            "min_width": null,
            "object_fit": null,
            "object_position": null,
            "order": null,
            "overflow": null,
            "overflow_x": null,
            "overflow_y": null,
            "padding": null,
            "right": null,
            "top": null,
            "visibility": null,
            "width": null
          }
        },
        "b2c66a6aafbc412dbd3d6330e00c8b09": {
          "model_module": "@jupyter-widgets/controls",
          "model_name": "ProgressStyleModel",
          "model_module_version": "1.5.0",
          "state": {
            "_model_module": "@jupyter-widgets/controls",
            "_model_module_version": "1.5.0",
            "_model_name": "ProgressStyleModel",
            "_view_count": null,
            "_view_module": "@jupyter-widgets/base",
            "_view_module_version": "1.2.0",
            "_view_name": "StyleView",
            "bar_color": null,
            "description_width": ""
          }
        },
        "8371d751ab394fe9b5160c776b14d966": {
          "model_module": "@jupyter-widgets/base",
          "model_name": "LayoutModel",
          "model_module_version": "1.2.0",
          "state": {
            "_model_module": "@jupyter-widgets/base",
            "_model_module_version": "1.2.0",
            "_model_name": "LayoutModel",
            "_view_count": null,
            "_view_module": "@jupyter-widgets/base",
            "_view_module_version": "1.2.0",
            "_view_name": "LayoutView",
            "align_content": null,
            "align_items": null,
            "align_self": null,
            "border": null,
            "bottom": null,
            "display": null,
            "flex": null,
            "flex_flow": null,
            "grid_area": null,
            "grid_auto_columns": null,
            "grid_auto_flow": null,
            "grid_auto_rows": null,
            "grid_column": null,
            "grid_gap": null,
            "grid_row": null,
            "grid_template_areas": null,
            "grid_template_columns": null,
            "grid_template_rows": null,
            "height": null,
            "justify_content": null,
            "justify_items": null,
            "left": null,
            "margin": null,
            "max_height": null,
            "max_width": null,
            "min_height": null,
            "min_width": null,
            "object_fit": null,
            "object_position": null,
            "order": null,
            "overflow": null,
            "overflow_x": null,
            "overflow_y": null,
            "padding": null,
            "right": null,
            "top": null,
            "visibility": null,
            "width": null
          }
        },
        "d7f74c0febac428985d4569d948470a3": {
          "model_module": "@jupyter-widgets/controls",
          "model_name": "DescriptionStyleModel",
          "model_module_version": "1.5.0",
          "state": {
            "_model_module": "@jupyter-widgets/controls",
            "_model_module_version": "1.5.0",
            "_model_name": "DescriptionStyleModel",
            "_view_count": null,
            "_view_module": "@jupyter-widgets/base",
            "_view_module_version": "1.2.0",
            "_view_name": "StyleView",
            "description_width": ""
          }
        }
      }
    }
  },
  "cells": [
    {
      "cell_type": "markdown",
      "metadata": {
        "id": "view-in-github",
        "colab_type": "text"
      },
      "source": [
        "<a href=\"https://colab.research.google.com/github/arunkumar-ra/ml-projects/blob/main/Finetuning_BERT_for_SQUAD_v1_1.ipynb\" target=\"_parent\"><img src=\"https://colab.research.google.com/assets/colab-badge.svg\" alt=\"Open In Colab\"/></a>"
      ]
    },
    {
      "cell_type": "markdown",
      "source": [
        "#### In this colab, we will attempt to fine tune BERT on SQUAD v1.1 dataset as described in the BERT paper.\n",
        "\n",
        "#### When given a question and a context which contains the answer, the finetuned model can be used to select the portion of context which contains the answer.\n",
        "\n",
        "#### Eg from Google search.\n",
        "![Screen Shot 2024-04-06 at 8.41.28 PM.png](data:image/png;base64,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)"
      ],
      "metadata": {
        "id": "vWwQbXgmpBZN"
      }
    },
    {
      "cell_type": "code",
      "source": [
        "# For debugging. Get full cuda stack trace\n",
        "import os\n",
        "os.environ['CUDA_LAUNCH_BLOCKING'] = \"1\"\n",
        "os.environ['TORCH_USE_CUDA_DSA'] = \"1\""
      ],
      "metadata": {
        "id": "qg0NGiyuX16w"
      },
      "execution_count": 1,
      "outputs": []
    },
    {
      "cell_type": "code",
      "source": [
        "import torch"
      ],
      "metadata": {
        "id": "OD1Xno5A_IRk"
      },
      "execution_count": 4,
      "outputs": []
    },
    {
      "cell_type": "code",
      "source": [
        "# BERT MODELS\n",
        "BERT_LARGE_UNCASED = \"bert-large-uncased\" # Ignores casing.\n",
        "BERT_LARGE_CASED = \"bert-large-cased\" # Does not ignore casing.\n",
        "BERT_BASE_UNCASED = \"bert-base-uncased\"\n",
        "BERT_BASE_CASED = \"bert-base-cased\""
      ],
      "metadata": {
        "id": "90K4tWZJ0cPq"
      },
      "execution_count": 6,
      "outputs": []
    },
    {
      "cell_type": "code",
      "source": [
        "# Download the model for testing\n",
        "from transformers import BertTokenizer, BertModel\n",
        "# Using ALL_CAPS to avoid accidental overwrites by function scoped variable definitions.\n",
        "TOKENIZER = BertTokenizer.from_pretrained(BERT_BASE_UNCASED)\n",
        "MODEL = BertModel.from_pretrained(BERT_BASE_UNCASED)\n"
      ],
      "metadata": {
        "colab": {
          "base_uri": "https://localhost:8080/",
          "height": 177,
          "referenced_widgets": [
            "13d508e1675c48e4a1a4d982461c983d",
            "5a0d4f2ca70e44cea9f566d9d9f16648",
            "852bda1b752240b7849563debd3e6730",
            "5b02589c61b6428880cb24fd448f2f02",
            "51e00570382d484b83a194599dbc7597",
            "5b81a3e292d04ef2b2d39fb464784bc8",
            "06fc435bae3640f59490aa50eb2234be",
            "d5f9359de3cd4ba49287ba0dd989a548",
            "c605929ea0c249e7a30bc4a4c01fe031",
            "3ae63d52b97a48dc8407b4b878b2aa1b",
            "ac5e2fdff5ae4fcfaa0514af458f64a6",
            "c0a0c9b2e898479891b5778aa0f9a7a7",
            "1c1343c88def40f8aecf379d626df711",
            "cf8bdb9c39c2421aa71e23e95875ab65",
            "888ebdc9f87847f1841020732db95a74",
            "ef862e4b555a49c2987631c38e846988",
            "da37d4b7e01c45b586d54ba626677485",
            "ac2b3dbc05e84d06b2608c7a9c1ccc7d",
            "8830b6a148c04978b33cbace9080e191",
            "49339254454a4fb78bbc3ba4acd04d24",
            "09c923332b6a446db2315b483f63488a",
            "ab22822e78ec407fb721ad46f3e9596f",
            "05e81d823ade402697169fbdff05169c",
            "0a4baa0b69924ce7b25f8a498d0682f1",
            "d111843b0e9e49a59b05691fd6d85864",
            "388df11d39464a798058bb2c26b60dd2",
            "035d0c9451cf48858b3f7c3d70dd9f22",
            "a8f868319b3946359f7e0d39c11bc51e",
            "f928600598244866869aac105ac9915e",
            "3a0704493c6e47638449cf1ac336485f",
            "c0cc9b001f8e466e9458123e0b1b442d",
            "3298a6f96e3c462587c9b2f07445d273",
            "f99d22ccbe8948238d694dd5b65e9e70",
            "3192e215f41e461ca06dfc12849d176e",
            "8e014d3dc5c5421d84df7edbc3c2cae7",
            "33c2934c15ee41acbdff3f3ab5ca00a8",
            "b780f4c1a6b84ba295fd59a679912ffa",
            "c19de055669349b2a9eafbbcd5fac169",
            "fcff7a2bb3084d1a90f8abc233993357",
            "b24e256d34374d3ca9378376c324ebb7",
            "35563caab63d40a9a1d006ad0a0d0f46",
            "2cb60d717cfe4b35bf894dec9718cb03",
            "44038ca6423c4ae6b53ba2e2d0b7ee3d",
            "0d3a8d101882420d96247f79c72154ea",
            "062a2f17dcf34162bbb9d80afbf2b781",
            "61d828aa06a14d07b9a61be37083834c",
            "d1b405126f0242a9a6955c3a8723871d",
            "f4839c8775934a6196f3ffc0defdddf5",
            "c4265d31cd484e3fa68dd48d86ab5121",
            "e184fc8974754f13ab4a75855025a85a",
            "49c521ffcb2e49e1b8107f3cde200d73",
            "2b1ceba32f004d1d8effbbaed7e8503c",
            "94df46e89aba4f6ba2398437a7858c5c",
            "794f82e919484b879c5ce7e310378f00",
            "bb67548bb83e4534ab447b7e86d68129"
          ]
        },
        "id": "7CL6sABgxoCv",
        "outputId": "dd79974e-429a-4275-d796-b77b8222a4e5"
      },
      "execution_count": 7,
      "outputs": [
        {
          "output_type": "display_data",
          "data": {
            "text/plain": [
              "tokenizer_config.json:   0%|          | 0.00/48.0 [00:00<?, ?B/s]"
            ],
            "application/vnd.jupyter.widget-view+json": {
              "version_major": 2,
              "version_minor": 0,
              "model_id": "13d508e1675c48e4a1a4d982461c983d"
            }
          },
          "metadata": {}
        },
        {
          "output_type": "display_data",
          "data": {
            "text/plain": [
              "vocab.txt:   0%|          | 0.00/232k [00:00<?, ?B/s]"
            ],
            "application/vnd.jupyter.widget-view+json": {
              "version_major": 2,
              "version_minor": 0,
              "model_id": "c0a0c9b2e898479891b5778aa0f9a7a7"
            }
          },
          "metadata": {}
        },
        {
          "output_type": "display_data",
          "data": {
            "text/plain": [
              "tokenizer.json:   0%|          | 0.00/466k [00:00<?, ?B/s]"
            ],
            "application/vnd.jupyter.widget-view+json": {
              "version_major": 2,
              "version_minor": 0,
              "model_id": "05e81d823ade402697169fbdff05169c"
            }
          },
          "metadata": {}
        },
        {
          "output_type": "display_data",
          "data": {
            "text/plain": [
              "config.json:   0%|          | 0.00/570 [00:00<?, ?B/s]"
            ],
            "application/vnd.jupyter.widget-view+json": {
              "version_major": 2,
              "version_minor": 0,
              "model_id": "3192e215f41e461ca06dfc12849d176e"
            }
          },
          "metadata": {}
        },
        {
          "output_type": "display_data",
          "data": {
            "text/plain": [
              "model.safetensors:   0%|          | 0.00/440M [00:00<?, ?B/s]"
            ],
            "application/vnd.jupyter.widget-view+json": {
              "version_major": 2,
              "version_minor": 0,
              "model_id": "062a2f17dcf34162bbb9d80afbf2b781"
            }
          },
          "metadata": {}
        }
      ]
    },
    {
      "cell_type": "code",
      "source": [
        "# Testing padding, etc.\n",
        "\n",
        "def Test1():\n",
        "  text = [\"Replace me by any text you'd like.\", \"hi\"]\n",
        "  encoded_input = TOKENIZER(text, return_tensors='pt', padding=True)\n",
        "  output = MODEL(**encoded_input)\n",
        "\n",
        "  print(encoded_input)\n",
        "Test1()"
      ],
      "metadata": {
        "colab": {
          "base_uri": "https://localhost:8080/"
        },
        "id": "s10vQbgePCWb",
        "outputId": "9c75a463-e6f8-4278-ad5b-feb43b24202d"
      },
      "execution_count": 5,
      "outputs": [
        {
          "output_type": "stream",
          "name": "stdout",
          "text": [
            "{'input_ids': tensor([[ 101, 5672, 2033, 2011, 2151, 3793, 2017, 1005, 1040, 2066, 1012,  102],\n",
            "        [ 101, 7632,  102,    0,    0,    0,    0,    0,    0,    0,    0,    0]]), 'token_type_ids': tensor([[0, 0, 0, 0, 0, 0, 0, 0, 0, 0, 0, 0],\n",
            "        [0, 0, 0, 0, 0, 0, 0, 0, 0, 0, 0, 0]]), 'attention_mask': tensor([[1, 1, 1, 1, 1, 1, 1, 1, 1, 1, 1, 1],\n",
            "        [1, 1, 1, 0, 0, 0, 0, 0, 0, 0, 0, 0]])}\n"
          ]
        }
      ]
    },
    {
      "cell_type": "code",
      "source": [
        "# Examine the model architecture\n",
        "MODEL"
      ],
      "metadata": {
        "id": "crbqtREEyH8j"
      },
      "execution_count": null,
      "outputs": []
    },
    {
      "cell_type": "code",
      "source": [
        "%%capture\n",
        "!pip install datasets"
      ],
      "metadata": {
        "id": "tPL7CLlM97da"
      },
      "execution_count": 2,
      "outputs": []
    },
    {
      "cell_type": "code",
      "source": [
        "# Download SQUAD V1.1 dataset\n",
        "from datasets import load_dataset\n",
        "SQUAD = load_dataset(\"rajpurkar/squad\")"
      ],
      "metadata": {
        "colab": {
          "base_uri": "https://localhost:8080/",
          "height": 177,
          "referenced_widgets": [
            "5b8ac42238474152a55851c3f0e0e732",
            "05d943eff1f64112a9d46b923a1331cf",
            "2f8c41163f514630b6b2eb2203ea38b8",
            "64841b1b5c24467689503f3c59addcfd",
            "3101aed76fcb49498276d255d0187d8c",
            "6331386d584b43fa8634f1af9ab40748",
            "77279208f19e4d27a42a449369a2b819",
            "749144965a1741119897178ee9c5b7c6",
            "5e0423e5baf44e76a9cc18ccbf0bc681",
            "1d0f4d78d1de4e3698309eede314c7ce",
            "8b4e66c0528d47fd908f265139613443",
            "e00bfbfacbce43eebf1f1fddb8dfefbc",
            "ad317f364efd43fe83b9f0416d71cbc8",
            "a601ec3827ab44a9a972d1537c25a1c8",
            "683500ba6cb5479394251a236e166c1a",
            "e568a032de0e43478f3bea9389c5d751",
            "1a940915512841b6939fed23b0d24bfb",
            "c0b3adbc0c294678bb2e245726a52d14",
            "1da210b743064425b0b7f2a54cfd794e",
            "1b770f7740a4459584dfeba1e61c43ee",
            "22e3161910a74d84b90a07a0e56843c5",
            "c378bd171ddc43afa04474d0f0c30499",
            "d1d5dc7af5f844bf9fe483d681bfb574",
            "f14e21f2ecfa4d908cff1619799d2612",
            "c808dbbb57384b27ba56b1bb61805d7b",
            "660b7f13df3b4d36b02e707754978c7b",
            "a7845b02b5a340f09d4f4b3b329cd0b3",
            "5a45b92f14de4382a68e2a192c926d1a",
            "882d35efc9c6447594a03b0374291949",
            "d6da6a5330ff4f65aa7366c4d742ae9a",
            "7aeb8e4f722347ffa30db980b5c13829",
            "1ef96a6c2e9a446fb919da68fa911f63",
            "088ee3c58f6144ec9c59bcfce24f8e6c",
            "9dbd372b19ed4025b67f1f3be6b1368d",
            "5945f33f4d61468091e36e8ce6d8c440",
            "5f6a56056e50485ba819283fb4c82ad8",
            "4242f707652f4a59b44d55c1ef237d81",
            "2fcf70965668414989b17e68938c9cd6",
            "4664ab7d3b284615a650e8d6c1d51429",
            "4b3b27288a694b78bdba43043141c5f2",
            "dd2fd5b9ea5c4695abd4e5110122c4f0",
            "a50bca3a251541bfa5362ac5588a3a87",
            "2e9aad2a5e364cb8a8ef5d615b672afa",
            "7f6d55ace65a44259639b4a88599271d",
            "cd1a080e3a1a47a79d0ba25ae81f73fa",
            "705d41d0f61749dca5c6561cf1ae62bb",
            "7f07dcc97cba4245a0b3f4d8b8f04ffb",
            "2d57f56ef3764f208339d53fd2058197",
            "b9239b0cd0fc4d64b5b00594f7392c01",
            "a049c4fe233f4bb0b03553a9156a5661",
            "25624812b315400b8f36172756d02a68",
            "3308dd5994e441e7b816752905979c84",
            "b2c66a6aafbc412dbd3d6330e00c8b09",
            "8371d751ab394fe9b5160c776b14d966",
            "d7f74c0febac428985d4569d948470a3"
          ]
        },
        "id": "9_OWV3lWyJDU",
        "outputId": "8b1a5afd-ccc5-497c-cf1b-b6c629ab9075"
      },
      "execution_count": 3,
      "outputs": [
        {
          "output_type": "display_data",
          "data": {
            "text/plain": [
              "Downloading readme:   0%|          | 0.00/7.62k [00:00<?, ?B/s]"
            ],
            "application/vnd.jupyter.widget-view+json": {
              "version_major": 2,
              "version_minor": 0,
              "model_id": "5b8ac42238474152a55851c3f0e0e732"
            }
          },
          "metadata": {}
        },
        {
          "output_type": "display_data",
          "data": {
            "text/plain": [
              "Downloading data:   0%|          | 0.00/14.5M [00:00<?, ?B/s]"
            ],
            "application/vnd.jupyter.widget-view+json": {
              "version_major": 2,
              "version_minor": 0,
              "model_id": "e00bfbfacbce43eebf1f1fddb8dfefbc"
            }
          },
          "metadata": {}
        },
        {
          "output_type": "display_data",
          "data": {
            "text/plain": [
              "Downloading data:   0%|          | 0.00/1.82M [00:00<?, ?B/s]"
            ],
            "application/vnd.jupyter.widget-view+json": {
              "version_major": 2,
              "version_minor": 0,
              "model_id": "d1d5dc7af5f844bf9fe483d681bfb574"
            }
          },
          "metadata": {}
        },
        {
          "output_type": "display_data",
          "data": {
            "text/plain": [
              "Generating train split:   0%|          | 0/87599 [00:00<?, ? examples/s]"
            ],
            "application/vnd.jupyter.widget-view+json": {
              "version_major": 2,
              "version_minor": 0,
              "model_id": "9dbd372b19ed4025b67f1f3be6b1368d"
            }
          },
          "metadata": {}
        },
        {
          "output_type": "display_data",
          "data": {
            "text/plain": [
              "Generating validation split:   0%|          | 0/10570 [00:00<?, ? examples/s]"
            ],
            "application/vnd.jupyter.widget-view+json": {
              "version_major": 2,
              "version_minor": 0,
              "model_id": "cd1a080e3a1a47a79d0ba25ae81f73fa"
            }
          },
          "metadata": {}
        }
      ]
    },
    {
      "cell_type": "code",
      "source": [
        "# Note, the BERT tokenizer automatically adds a special token CLS = 101 and SEP = 102 at the beginning and the end of inputs respectively.\n",
        "TOKENIZER.encode(\"\")"
      ],
      "metadata": {
        "colab": {
          "base_uri": "https://localhost:8080/"
        },
        "id": "ei20xlPn_ATP",
        "outputId": "5af65388-fa01-4dc2-bc06-e4f0a82e323b"
      },
      "execution_count": 8,
      "outputs": [
        {
          "output_type": "execute_result",
          "data": {
            "text/plain": [
              "[101, 102]"
            ]
          },
          "metadata": {},
          "execution_count": 8
        }
      ]
    },
    {
      "cell_type": "code",
      "source": [
        "SQUAD['train'][0]"
      ],
      "metadata": {
        "colab": {
          "base_uri": "https://localhost:8080/"
        },
        "id": "EzGlK3PS9gkv",
        "outputId": "10be0919-97f9-4557-ebbd-9b29026ea924"
      },
      "execution_count": 9,
      "outputs": [
        {
          "output_type": "execute_result",
          "data": {
            "text/plain": [
              "{'id': '5733be284776f41900661182',\n",
              " 'title': 'University_of_Notre_Dame',\n",
              " 'context': 'Architecturally, the school has a Catholic character. Atop the Main Building\\'s gold dome is a golden statue of the Virgin Mary. Immediately in front of the Main Building and facing it, is a copper statue of Christ with arms upraised with the legend \"Venite Ad Me Omnes\". Next to the Main Building is the Basilica of the Sacred Heart. Immediately behind the basilica is the Grotto, a Marian place of prayer and reflection. It is a replica of the grotto at Lourdes, France where the Virgin Mary reputedly appeared to Saint Bernadette Soubirous in 1858. At the end of the main drive (and in a direct line that connects through 3 statues and the Gold Dome), is a simple, modern stone statue of Mary.',\n",
              " 'question': 'To whom did the Virgin Mary allegedly appear in 1858 in Lourdes France?',\n",
              " 'answers': {'text': ['Saint Bernadette Soubirous'], 'answer_start': [515]}}"
            ]
          },
          "metadata": {},
          "execution_count": 9
        }
      ]
    },
    {
      "cell_type": "code",
      "source": [
        "# Sample processing for one example\n",
        "# Process training set into tokens and labels\n",
        "# question + context will be tokenized as the input. We add the question first and then the context to keep the structure similar to how BERT was pretrained.\n",
        "# question is wrapped with special tokens CLS at the beginning and SEP at the end (similar to pretraining)\n",
        "def SampleTest():\n",
        "  sample_data = SQUAD['train'][0]\n",
        "\n",
        "  sample_tokenized_input = TOKENIZER.encode(sample_data['question']) + TOKENIZER.encode(sample_data['context'], add_special_tokens=False)\n",
        "  print(\"Input tokens: \", *sample_tokenized_input)\n",
        "\n",
        "  # We will extract the token where the answer starts and the token where the answer ends and these will be our output labels\n",
        "  # To find the first answer token number, use the answer_start entry and tokenize the input from that point.\n",
        "  # Here we make an assumption that the answer always starts at a token boundary (eg. after a space)\n",
        "  # Then work backwards to find the position of the first answer token.\n",
        "  answer_start = sample_data['answers']['answer_start'][0]\n",
        "  sample_tokenized_answer_start = TOKENIZER.encode(sample_data['context'][answer_start:], add_special_tokens=False)\n",
        "  print(\"Truncated input tokens beginning with answer: \", *sample_tokenized_answer_start)\n",
        "\n",
        "  answer_start_idx = len(sample_tokenized_input) - len(sample_tokenized_answer_start)\n",
        "  answer_end_idx = len(TOKENIZER.encode(sample_data['answers']['text'][0], add_special_tokens=False)) + answer_start_idx\n",
        "\n",
        "  # Sanity check\n",
        "  print(\"Answer: \", TOKENIZER.decode(sample_tokenized_input[answer_start_idx:answer_end_idx]))\n",
        "SampleTest()"
      ],
      "metadata": {
        "colab": {
          "base_uri": "https://localhost:8080/"
        },
        "id": "mSYYnrGa-Imw",
        "outputId": "15c0a3e1-46ec-4743-f07b-6921929908ac"
      },
      "execution_count": 10,
      "outputs": [
        {
          "output_type": "stream",
          "name": "stdout",
          "text": [
            "Input tokens:  101 2000 3183 2106 1996 6261 2984 9382 3711 1999 8517 1999 10223 26371 2605 1029 102 6549 2135 1010 1996 2082 2038 1037 3234 2839 1012 10234 1996 2364 2311 1005 1055 2751 8514 2003 1037 3585 6231 1997 1996 6261 2984 1012 3202 1999 2392 1997 1996 2364 2311 1998 5307 2009 1010 2003 1037 6967 6231 1997 4828 2007 2608 2039 14995 6924 2007 1996 5722 1000 2310 3490 2618 4748 2033 18168 5267 1000 1012 2279 2000 1996 2364 2311 2003 1996 13546 1997 1996 6730 2540 1012 3202 2369 1996 13546 2003 1996 24665 23052 1010 1037 14042 2173 1997 7083 1998 9185 1012 2009 2003 1037 15059 1997 1996 24665 23052 2012 10223 26371 1010 2605 2073 1996 6261 2984 22353 2135 2596 2000 3002 16595 9648 4674 2061 12083 9711 2271 1999 8517 1012 2012 1996 2203 1997 1996 2364 3298 1006 1998 1999 1037 3622 2240 2008 8539 2083 1017 11342 1998 1996 2751 8514 1007 1010 2003 1037 3722 1010 2715 2962 6231 1997 2984 1012\n",
            "Truncated input tokens beginning with answer:  3002 16595 9648 4674 2061 12083 9711 2271 1999 8517 1012 2012 1996 2203 1997 1996 2364 3298 1006 1998 1999 1037 3622 2240 2008 8539 2083 1017 11342 1998 1996 2751 8514 1007 1010 2003 1037 3722 1010 2715 2962 6231 1997 2984 1012\n",
            "Answer:  saint bernadette soubirous\n"
          ]
        }
      ]
    },
    {
      "cell_type": "code",
      "source": [
        "# Special tokens\n",
        "CLS = \"[CLS]\"\n",
        "SEP = \"[SEP]\""
      ],
      "metadata": {
        "id": "w05XbERXfiy5"
      },
      "execution_count": 10,
      "outputs": []
    },
    {
      "cell_type": "code",
      "source": [
        "MAX_TOKENS = 512\n",
        "BATCH_SIZE = 16\n",
        "DEVICE = 'cuda' if torch.cuda.is_available() else 'cpu'"
      ],
      "metadata": {
        "id": "V5bziAHDaYjl"
      },
      "execution_count": 11,
      "outputs": []
    },
    {
      "cell_type": "code",
      "source": [
        "# Convert batch_size examples into input format\n",
        "def convert_to_input_format(rows):\n",
        "  inputs = [(CLS + rows['question'][idx] + SEP + rows['context'][idx]) for idx in range(len(rows['id']))]\n",
        "  tokenized_input = TOKENIZER(inputs, padding='longest', add_special_tokens=False, truncation=True)\n",
        "\n",
        "  y = torch.zeros((BATCH_SIZE, 2), dtype=torch.long)\n",
        "  for idx in range(0, len(rows['id'])):\n",
        "    answer_start = rows['answers'][idx]['answer_start'][0]\n",
        "    # Get all tokens before the anwer starts\n",
        "    tokenized_answer_start = TOKENIZER.encode(CLS + rows['question'][idx] + SEP + rows['context'][idx][:answer_start], add_special_tokens=False)\n",
        "    answer_start_idx = len(tokenized_answer_start)\n",
        "\n",
        "    # Verify that the indexes are sane. Out of bounds labels cause the training to break downstream.\n",
        "    assert answer_start_idx > 0\n",
        "    answer_end_idx = len(TOKENIZER.encode(rows['answers'][idx]['text'][0], add_special_tokens=False)) + answer_start_idx - 1\n",
        "    if answer_start_idx >= len(tokenized_input['input_ids'][idx]):\n",
        "      answer_start_idx = 0\n",
        "      answer_end_idx = 0\n",
        "    assert answer_end_idx < len(tokenized_input['input_ids'][idx])\n",
        "    y[idx][0] = answer_start_idx\n",
        "    y[idx][1] = answer_end_idx\n",
        "\n",
        "  return tokenized_input, y"
      ],
      "metadata": {
        "id": "eiZHo2ugGUiQ"
      },
      "execution_count": 12,
      "outputs": []
    },
    {
      "cell_type": "markdown",
      "source": [
        "## Load training data set. If already pre-processed load directly from gdrive, otherwise, skip to next cell to process and write the training data to gdrive."
      ],
      "metadata": {
        "id": "Zll3X6uKlxjd"
      }
    },
    {
      "cell_type": "code",
      "source": [
        "# Load processed data set directly from gdrive if available.\n",
        "from google.colab import drive\n",
        "drive.mount('/content/gdrive')\n",
        "\n",
        "X_TOK = torch.load(F\"/content/gdrive/MyDrive/squad_v1p1_batch\" + str(BATCH_SIZE) + \"_input\")\n",
        "Y_TOK = torch.load(F\"/content/gdrive/MyDrive/squad_v1p1_batch\" + str(BATCH_SIZE) + \"_label\")"
      ],
      "metadata": {
        "colab": {
          "base_uri": "https://localhost:8080/"
        },
        "id": "8B83BZu7p0Y7",
        "outputId": "5a4ddc8d-0c6a-4825-da54-e2864f19d069"
      },
      "execution_count": 61,
      "outputs": [
        {
          "output_type": "stream",
          "name": "stdout",
          "text": [
            "Drive already mounted at /content/gdrive; to attempt to forcibly remount, call drive.mount(\"/content/gdrive\", force_remount=True).\n"
          ]
        }
      ]
    },
    {
      "cell_type": "code",
      "source": [
        "# Process the entire training set. Takes around 10 minutes to process.\n",
        "X_TOK, Y_TOK = [], []\n",
        "print(\"Total rows: \", len(SQUAD['train']))\n",
        "for idx in range(0, len(SQUAD['train']) - BATCH_SIZE, BATCH_SIZE):\n",
        "  rows = SQUAD['train'][idx:idx+BATCH_SIZE]\n",
        "  x_i, y_i = convert_to_input_format(rows)\n",
        "\n",
        "  X_TOK.append(x_i)\n",
        "  Y_TOK.append(y_i)\n",
        "\n",
        "  if idx % (50*BATCH_SIZE) == 0:\n",
        "    print(\"Processed: \", idx)"
      ],
      "metadata": {
        "id": "5XqGHIiVIXzO"
      },
      "execution_count": null,
      "outputs": []
    },
    {
      "cell_type": "code",
      "source": [
        "# Save the processed dataset to a gdrive so we don't have to process it again.\n",
        "from google.colab import drive\n",
        "drive.mount('/content/gdrive')\n",
        "\n",
        "def save_object(my_object, file_name):\n",
        "  path = F\"/content/gdrive/MyDrive/{file_name}\"\n",
        "  torch.save(my_object, path)\n",
        "\n",
        "save_object(X_TOK, \"squad_v1p1_batch\" + str(BATCH_SIZE) + \"_input\")\n",
        "save_object(Y_TOK, \"squad_v1p1_batch\" + str(BATCH_SIZE) + \"_label\")"
      ],
      "metadata": {
        "colab": {
          "base_uri": "https://localhost:8080/"
        },
        "id": "rrfpI7Fznqn-",
        "outputId": "659fa86b-0405-4fa2-c4ca-020f2a19b27d"
      },
      "execution_count": 31,
      "outputs": [
        {
          "output_type": "stream",
          "name": "stdout",
          "text": [
            "Drive already mounted at /content/gdrive; to attempt to forcibly remount, call drive.mount(\"/content/gdrive\", force_remount=True).\n"
          ]
        }
      ]
    },
    {
      "cell_type": "code",
      "source": [
        "# Split the train set into training and devel.\n",
        "# We will use the original devel set as test.\n",
        "from sklearn.model_selection import train_test_split\n",
        "X_TRAIN, X_DEV, Y_TRAIN, Y_DEV = train_test_split(X_TOK, Y_TOK, test_size=0.1, random_state=42)"
      ],
      "metadata": {
        "id": "xn7HElItJBlW"
      },
      "execution_count": 62,
      "outputs": []
    },
    {
      "cell_type": "code",
      "source": [
        "import numpy as np\n",
        "\n",
        "def get_random_batch(x, y):\n",
        "  idx = np.random.randint(len(x))\n",
        "  return x[idx], y[idx]"
      ],
      "metadata": {
        "id": "mvjDflFKqs9o"
      },
      "execution_count": 13,
      "outputs": []
    },
    {
      "cell_type": "code",
      "source": [
        "import torch.nn as nn\n",
        "from torch.nn import functional as F\n",
        "\n",
        "# hidden_size = 768\n",
        "\n",
        "class BertSquadModel(nn.Module):\n",
        "    def __init__(self):\n",
        "        super().__init__()\n",
        "        self.bert = BertModel.from_pretrained(BERT_BASE_UNCASED)\n",
        "        self.S = nn.Linear(self.bert.config.hidden_size, 1, bias=False) # TODO: Try later with bias = True?\n",
        "        self.E = nn.Linear(self.bert.config.hidden_size, 1, bias=False)\n",
        "\n",
        "    def forward(self, input_ids, attention_mask, prediction):\n",
        "        bert_output = self.bert(input_ids=input_ids, attention_mask=attention_mask)\n",
        "        last_hidden_state = bert_output.last_hidden_state # (B, T, hidden_size)\n",
        "        S_logits = self.S(last_hidden_state).squeeze(-1) # B, T\n",
        "        E_logits = self.E(last_hidden_state).squeeze(-1) # B, T\n",
        "        loss = F.cross_entropy(S_logits, prediction[0]) + F.cross_entropy(E_logits, prediction[1])\n",
        "\n",
        "        return loss\n",
        "\n",
        "    def get_best_start_end_positions(self, input_ids, attention_mask):\n",
        "      # Is setting this necessary?\n",
        "      self.eval()\n",
        "      bert_output = self.bert(input_ids=input_ids, attention_mask=attention_mask)\n",
        "      last_hidden_state = bert_output.last_hidden_state # (B, T, hidden_size)\n",
        "      S_logits = self.S(last_hidden_state).squeeze(-1) # B, T\n",
        "      E_logits = self.E(last_hidden_state).squeeze(-1) # B, T\n",
        "\n",
        "      # Softmax along T dimension.\n",
        "      S_softmax = F.softmax(S_logits, dim=-1)\n",
        "      E_softmax = F.softmax(E_logits, dim=-1)\n",
        "\n",
        "      B, T = S_logits.shape\n",
        "      # For each S = Ti, find Tj such that i < j and j = argmax(Tj)\n",
        "      se_positions = torch.zeros((B, 2), dtype=torch.long)\n",
        "      for batch in range(0, B):\n",
        "        max_prob = 0.0\n",
        "        max_end_loc = T-1\n",
        "        for token in range(0, T-1):\n",
        "          start = T - token - 2\n",
        "          if S_softmax[batch][start] * E_softmax[batch][max_end_loc] > max_prob:\n",
        "            se_positions[batch][0] = start\n",
        "            se_positions[batch][1] = max_end_loc\n",
        "            max_prob = S_softmax[batch][start] * E_softmax[batch][max_end_loc]\n",
        "          if E_softmax[batch][start] > E_softmax[batch][max_end_loc]:\n",
        "            max_end_loc = start\n",
        "\n",
        "      self.train()\n",
        "      return se_positions\n"
      ],
      "metadata": {
        "id": "CgFsNhswMxJS"
      },
      "execution_count": 35,
      "outputs": []
    },
    {
      "cell_type": "code",
      "source": [
        "MODEL = BertSquadModel()\n",
        "MODEL = MODEL.to(DEVICE)\n",
        "\n",
        "# print the number of parameters in the model\n",
        "print(sum(p.numel() for p in MODEL.parameters())/1e6, 'M parameters')"
      ],
      "metadata": {
        "colab": {
          "base_uri": "https://localhost:8080/"
        },
        "id": "fWEDFuYlXpI-",
        "outputId": "28bf79a3-82c3-4cb2-9c51-00e62b0f31f9"
      },
      "execution_count": 36,
      "outputs": [
        {
          "output_type": "stream",
          "name": "stdout",
          "text": [
            "109.483776 M parameters\n"
          ]
        }
      ]
    },
    {
      "cell_type": "code",
      "source": [
        "LEARNING_RATE = 5e-5\n",
        "# SQUAD finetuning should run for a total of 3 epochs according to BERT paper.\n",
        "EPOCHS = 1\n",
        "OPTIMIZER = torch.optim.AdamW(MODEL.parameters(), lr=LEARNING_RATE)\n"
      ],
      "metadata": {
        "id": "r54iN4tm-MHi"
      },
      "execution_count": 67,
      "outputs": []
    },
    {
      "cell_type": "code",
      "source": [
        "from google.colab import drive\n",
        "drive.mount('/content/gdrive')\n",
        "\n",
        "def save_model(model, file_name):\n",
        "  path = F\"/content/gdrive/MyDrive/{file_name}\"\n",
        "  torch.save(model.state_dict(), path)\n",
        "\n",
        "def update_model_from(file_name):\n",
        "  path = F\"/content/gdrive/My Drive/{file_name}\"\n",
        "  MODEL.load_state_dict(torch.load(path))"
      ],
      "metadata": {
        "colab": {
          "base_uri": "https://localhost:8080/"
        },
        "id": "ZnSqtqbrc4aU",
        "outputId": "953985e5-543a-4289-f590-e602761a827b"
      },
      "execution_count": 16,
      "outputs": [
        {
          "output_type": "stream",
          "name": "stdout",
          "text": [
            "Mounted at /content/gdrive\n"
          ]
        }
      ]
    },
    {
      "cell_type": "code",
      "source": [
        "loss_tracker = {'train': [], 'val': [], 'iter': []}"
      ],
      "metadata": {
        "id": "1bkzcvAsdJmh"
      },
      "execution_count": 64,
      "outputs": []
    },
    {
      "cell_type": "code",
      "source": [
        "@torch.no_grad()\n",
        "def estimate_loss():\n",
        "    MODEL.eval()\n",
        "    eval_iters = 5\n",
        "    losses = torch.zeros(eval_iters)\n",
        "    for k in range(eval_iters):\n",
        "        xb, yb = get_random_batch(X_DEV, Y_DEV)\n",
        "        xb_input_ids = torch.tensor(xb['input_ids'], dtype=torch.long)\n",
        "        xb_attention_mask = torch.tensor(xb['attention_mask'], dtype=torch.long)\n",
        "        xb_input_ids = xb_input_ids.to(DEVICE)\n",
        "        xb_attention_mask = xb_attention_mask.to(DEVICE)\n",
        "        yb = yb.to(DEVICE)\n",
        "\n",
        "        eval_loss = MODEL(xb_input_ids, xb_attention_mask, yb.T)\n",
        "        losses[k] = eval_loss.item()\n",
        "    MODEL.train()\n",
        "    return losses.mean()\n"
      ],
      "metadata": {
        "id": "LJ6NgMgllABq"
      },
      "execution_count": 63,
      "outputs": []
    },
    {
      "cell_type": "code",
      "source": [
        "import torch\n",
        "import torchvision.models as models\n",
        "from torch.profiler import profile, record_function, ProfilerActivity"
      ],
      "metadata": {
        "id": "GOcz5szrdC56"
      },
      "execution_count": 23,
      "outputs": []
    },
    {
      "cell_type": "markdown",
      "source": [
        "## To continue training from a previous checkpoint load the model from gdrive."
      ],
      "metadata": {
        "id": "BGm6BhG4mJJ2"
      }
    },
    {
      "cell_type": "code",
      "source": [
        "# To continue training from checkpoint, fetch model checkpoint from drive.\n",
        "update_model_from('bert_finetune_v2')"
      ],
      "metadata": {
        "id": "CBTJ6h5RgcZr"
      },
      "execution_count": 65,
      "outputs": []
    },
    {
      "cell_type": "markdown",
      "source": [
        "## Start the training. You can use `watch nvidia-smi` to monitor GPU usage."
      ],
      "metadata": {
        "id": "xRQunyJnmQkC"
      }
    },
    {
      "cell_type": "code",
      "source": [
        "# For profiling.\n",
        "# with profile(activities=[ProfilerActivity.CUDA], record_shapes=True, profile_memory=True, with_flops=True, use_cuda=True) as prof:\n",
        "#   with record_function(\"model_training\"):\n",
        "def RunTraining():\n",
        "  for epoch in range(EPOCHS):\n",
        "    mini_loss = []\n",
        "    for idx in range(0, len(X_TRAIN)):\n",
        "      xb, yb = X_TRAIN[idx], Y_TRAIN[idx]\n",
        "      xb_input_ids = torch.tensor(xb['input_ids'], dtype=torch.long)\n",
        "      xb_attention_mask = torch.tensor(xb['attention_mask'], dtype=torch.long)\n",
        "      xb_input_ids = xb_input_ids.to(DEVICE)\n",
        "      xb_attention_mask = xb_attention_mask.to(DEVICE)\n",
        "      yb = yb.to(DEVICE)\n",
        "\n",
        "      # Forward pass\n",
        "      loss = MODEL(xb_input_ids, xb_attention_mask, yb.T)\n",
        "      mini_loss.append(loss.item())\n",
        "      if idx % 40 == 0:\n",
        "        loss_tracker['train'].append(np.mean(mini_loss))\n",
        "        mini_loss = []\n",
        "\n",
        "        # Evaluate loss on dev.\n",
        "        loss_tracker['val'].append(estimate_loss())\n",
        "        loss_tracker['iter'].append(epoch * len(X_TRAIN) + idx)\n",
        "        print(loss_tracker['iter'][-1], loss_tracker['train'][-1], loss_tracker['val'][-1])\n",
        "\n",
        "      OPTIMIZER.zero_grad(set_to_none=True)\n",
        "      loss.backward()\n",
        "      OPTIMIZER.step()\n",
        "    print(\"Epoch complete. Saving checkpoint.\")\n",
        "    save_model(MODEL, 'bert_finetune_v2')\n",
        "\n",
        "# Note: Last training checkpoint is after 2 epochs. We can potentially finetune the model for one more epoch.\n",
        "RunTraining()"
      ],
      "metadata": {
        "colab": {
          "base_uri": "https://localhost:8080/"
        },
        "id": "3jlb-YALUTv8",
        "outputId": "130f50b3-e5dc-452a-b70a-bb3985e8a1af"
      },
      "execution_count": null,
      "outputs": [
        {
          "output_type": "stream",
          "name": "stdout",
          "text": [
            "0 0.21715658903121948 tensor(2.2385)\n",
            "40 1.5505393393337727 tensor(2.2665)\n",
            "80 1.4429506115615367 tensor(2.1346)\n",
            "120 1.4053089708089828 tensor(2.4567)\n",
            "160 1.3952091850340367 tensor(1.4160)\n",
            "200 1.346600041538477 tensor(1.9254)\n",
            "240 1.4474309168756008 tensor(1.5053)\n",
            "280 1.3029310453683138 tensor(1.8261)\n",
            "320 1.2974381171166898 tensor(1.9646)\n",
            "360 1.2609787054359913 tensor(2.5829)\n",
            "400 1.3293742258101702 tensor(2.2221)\n",
            "440 1.0650062564760447 tensor(1.8627)\n",
            "480 1.1338659714907409 tensor(2.0339)\n",
            "520 1.3282895788550377 tensor(1.6037)\n",
            "560 1.2224042028188706 tensor(2.8437)\n",
            "600 1.1978044830262662 tensor(1.7161)\n",
            "640 1.3625453539192676 tensor(1.7375)\n",
            "680 1.27839809730649 tensor(2.4513)\n",
            "720 0.9642533160746097 tensor(2.3991)\n",
            "760 1.4044527411460876 tensor(1.6835)\n",
            "800 1.1454872086644172 tensor(1.4326)\n",
            "840 1.0518669717013835 tensor(3.1374)\n",
            "880 1.284445045888424 tensor(1.8126)\n",
            "920 1.4686404723674058 tensor(1.5637)\n"
          ]
        }
      ]
    },
    {
      "cell_type": "code",
      "source": [
        "print(prof.key_averages().table(sort_by=\"cuda_time_total\", row_limit=10))"
      ],
      "metadata": {
        "colab": {
          "base_uri": "https://localhost:8080/"
        },
        "id": "7gQk37ZzeNWh",
        "outputId": "76a0705e-d83a-40bd-8964-29882f204c1d"
      },
      "execution_count": 28,
      "outputs": [
        {
          "output_type": "stream",
          "name": "stdout",
          "text": [
            "-------------------------------------------------------  ------------  ------------  ------------  ------------  ------------  ------------  ------------  ------------  ------------  ------------  ------------  ------------  ------------  ------------  \n",
            "                                                   Name    Self CPU %      Self CPU   CPU total %     CPU total  CPU time avg     Self CUDA   Self CUDA %    CUDA total  CUDA time avg       CPU Mem  Self CPU Mem      CUDA Mem  Self CUDA Mem    # of Calls  \n",
            "-------------------------------------------------------  ------------  ------------  ------------  ------------  ------------  ------------  ------------  ------------  ------------  ------------  ------------  ------------  ------------  ------------  \n",
            "                                  volta_sgemm_128x64_nt         0.00%       0.000us         0.00%       0.000us       0.000us        6.398s        24.16%        6.398s       3.703ms           0 b           0 b           0 b           0 b          1728  \n",
            "                                  volta_sgemm_128x64_nn         0.00%       0.000us         0.00%       0.000us       0.000us        6.250s        23.60%        6.250s       3.619ms           0 b           0 b           0 b           0 b          1727  \n",
            "                                 volta_sgemm_128x128_tn         0.00%       0.000us         0.00%       0.000us       0.000us        4.228s        15.96%        4.228s       5.272ms           0 b           0 b           0 b           0 b           802  \n",
            "                                  volta_sgemm_128x64_tn         0.00%       0.000us         0.00%       0.000us       0.000us        3.784s        14.29%        3.784s       3.608ms           0 b           0 b           0 b           0 b          1049  \n",
            "                                 volta_sgemm_128x128_nn         0.00%       0.000us         0.00%       0.000us       0.000us     614.022ms         2.32%     614.022ms       8.528ms           0 b           0 b           0 b           0 b            72  \n",
            "void at::native::elementwise_kernel<128, 2, at::nati...         0.00%       0.000us         0.00%       0.000us       0.000us     542.480ms         2.05%     542.480ms     251.848us           0 b           0 b           0 b           0 b          2154  \n",
            "void at::native::vectorized_elementwise_kernel<4, at...         0.00%       0.000us         0.00%       0.000us       0.000us     461.136ms         1.74%     461.136ms     275.964us           0 b           0 b           0 b           0 b          1671  \n",
            "void at::native::vectorized_elementwise_kernel<4, at...         0.00%       0.000us         0.00%       0.000us       0.000us     442.300ms         1.67%     442.300ms     822.119us           0 b           0 b           0 b           0 b           538  \n",
            "                                   volta_sgemm_64x64_tn         0.00%       0.000us         0.00%       0.000us       0.000us     376.651ms         1.42%     376.651ms       1.163ms           0 b           0 b           0 b           0 b           324  \n",
            "                                   volta_sgemm_64x64_nn         0.00%       0.000us         0.00%       0.000us       0.000us     358.277ms         1.35%     358.277ms       1.073ms           0 b           0 b           0 b           0 b           334  \n",
            "-------------------------------------------------------  ------------  ------------  ------------  ------------  ------------  ------------  ------------  ------------  ------------  ------------  ------------  ------------  ------------  ------------  \n",
            "Self CPU time total: 28.990s\n",
            "Self CUDA time total: 26.486s\n",
            "\n"
          ]
        }
      ]
    },
    {
      "cell_type": "markdown",
      "source": [
        "## Loss curve of first training run."
      ],
      "metadata": {
        "id": "cpNt29QYmgrU"
      }
    },
    {
      "cell_type": "code",
      "source": [
        "# prompt: plot loss_tracker['train'] and loss_tracker['val'] on the same curve\n",
        "\n",
        "import matplotlib.pyplot as plt\n",
        "\n",
        "plt.plot(loss_tracker['iter'], loss_tracker['train'], label='train')\n",
        "plt.plot(loss_tracker['iter'], loss_tracker['val'], label='val')\n",
        "# Increase size of plot\n",
        "plt.rcParams[\"figure.figsize\"] = (20,5)\n",
        "\n",
        "plt.legend()\n",
        "plt.grid()\n",
        "plt.show()\n",
        "\n",
        "# Show grid\n"
      ],
      "metadata": {
        "colab": {
          "base_uri": "https://localhost:8080/",
          "height": 445
        },
        "id": "-jMYVawhu60s",
        "outputId": "c9a17e3a-1f97-4fb8-e59b-20b373bbe88f"
      },
      "execution_count": 61,
      "outputs": [
        {
          "output_type": "display_data",
          "data": {
            "text/plain": [
              "<Figure size 1000x500 with 1 Axes>"
            ],
            "image/png": "[encoded data removed]"
          },
          "metadata": {}
        }
      ]
    },
    {
      "cell_type": "markdown",
      "source": [
        "## Loss curve of second training run."
      ],
      "metadata": {
        "id": "XUE45mBnmfN6"
      }
    },
    {
      "cell_type": "code",
      "source": [
        "# Second training run - epoch 1\n",
        "# Updates:\n",
        "# -- added attention mask to input\n",
        "# -- changed batch size from 32 to 16 to prevent GPU OOMs\n",
        "\n",
        "import matplotlib.pyplot as plt\n",
        "\n",
        "plt.plot(loss_tracker['iter'], loss_tracker['train'], label='train')\n",
        "plt.plot(loss_tracker['iter'], loss_tracker['val'], label='val')\n",
        "# Increase size of plot\n",
        "plt.rcParams[\"figure.figsize\"] = (20,5)\n",
        "\n",
        "plt.legend()\n",
        "plt.grid()\n",
        "plt.show()\n",
        "\n",
        "# Show grid"
      ],
      "metadata": {
        "colab": {
          "base_uri": "https://localhost:8080/",
          "height": 430
        },
        "id": "7nRSSl9_E5n8",
        "outputId": "d102f5ae-9efd-4f28-b873-84ca19d14acf"
      },
      "execution_count": 28,
      "outputs": [
        {
          "output_type": "display_data",
          "data": {
            "text/plain": [
              "<Figure size 640x480 with 1 Axes>"
            ],
            "image/png": "[encoded data removed]"
          },
          "metadata": {}
        }
      ]
    },
    {
      "cell_type": "markdown",
      "source": [
        "## Evaluate test accuracy"
      ],
      "metadata": {
        "id": "A-NtJIE-OiiZ"
      }
    },
    {
      "cell_type": "code",
      "source": [
        "SQUAD['validation'][1]"
      ],
      "metadata": {
        "colab": {
          "base_uri": "https://localhost:8080/"
        },
        "id": "gfFmfgLENavL",
        "outputId": "0f0f7437-b5b7-46fb-b40e-f6d2bdd54adc"
      },
      "execution_count": 20,
      "outputs": [
        {
          "output_type": "execute_result",
          "data": {
            "text/plain": [
              "{'id': '56be4db0acb8001400a502ed',\n",
              " 'title': 'Super_Bowl_50',\n",
              " 'context': 'Super Bowl 50 was an American football game to determine the champion of the National Football League (NFL) for the 2015 season. The American Football Conference (AFC) champion Denver Broncos defeated the National Football Conference (NFC) champion Carolina Panthers 24–10 to earn their third Super Bowl title. The game was played on February 7, 2016, at Levi\\'s Stadium in the San Francisco Bay Area at Santa Clara, California. As this was the 50th Super Bowl, the league emphasized the \"golden anniversary\" with various gold-themed initiatives, as well as temporarily suspending the tradition of naming each Super Bowl game with Roman numerals (under which the game would have been known as \"Super Bowl L\"), so that the logo could prominently feature the Arabic numerals 50.',\n",
              " 'question': 'Which NFL team represented the NFC at Super Bowl 50?',\n",
              " 'answers': {'text': ['Carolina Panthers',\n",
              "   'Carolina Panthers',\n",
              "   'Carolina Panthers'],\n",
              "  'answer_start': [249, 249, 249]}}"
            ]
          },
          "metadata": {},
          "execution_count": 20
        }
      ]
    },
    {
      "cell_type": "code",
      "source": [
        "TEST_INPUT, TEST_OUTPUT = convert_to_input_format(SQUAD['validation'][0:BATCH_SIZE])"
      ],
      "metadata": {
        "id": "ZgF6lFlgvHDi"
      },
      "execution_count": 28,
      "outputs": []
    },
    {
      "cell_type": "code",
      "source": [
        "def RunTest():\n",
        "  xb_input_ids = torch.tensor(TEST_INPUT['input_ids'], dtype=torch.long)\n",
        "  xb_attention_mask = torch.tensor(TEST_INPUT['attention_mask'], dtype=torch.long)\n",
        "  xb_input_ids = xb_input_ids.to(DEVICE)\n",
        "  xb_attention_mask = xb_attention_mask.to(DEVICE)\n",
        "\n",
        "  # Forward pass\n",
        "  return MODEL.get_best_start_end_positions(xb_input_ids, xb_attention_mask)\n",
        "\n",
        "MODEL = MODEL.to(DEVICE)\n",
        "PREDICTION = RunTest()"
      ],
      "metadata": {
        "id": "JbLkTCpEVJ1V"
      },
      "execution_count": 38,
      "outputs": []
    },
    {
      "cell_type": "code",
      "source": [
        "for idx in range(16):\n",
        "  print(SQUAD['validation'][idx]) # context and question\n",
        "  start = PREDICTION[idx][0]\n",
        "  end = PREDICTION[idx][1]\n",
        "  print(\"Predicted answer: \", TOKENIZER.decode(TEST_INPUT['input_ids'][idx][start:end+1]))\n",
        "  print(\"Expected answer: \", TOKENIZER.decode(TEST_INPUT['input_ids'][idx][TEST_OUTPUT[idx][0]:TEST_OUTPUT[idx][1]+1]))"
      ],
      "metadata": {
        "colab": {
          "base_uri": "https://localhost:8080/"
        },
        "id": "s1SEjY3tWyHa",
        "outputId": "005d8a57-fedb-45da-b748-e78dba99b601"
      },
      "execution_count": 60,
      "outputs": [
        {
          "output_type": "stream",
          "name": "stdout",
          "text": [
            "{'id': '56be4db0acb8001400a502ec', 'title': 'Super_Bowl_50', 'context': 'Super Bowl 50 was an American football game to determine the champion of the National Football League (NFL) for the 2015 season. The American Football Conference (AFC) champion Denver Broncos defeated the National Football Conference (NFC) champion Carolina Panthers 24–10 to earn their third Super Bowl title. The game was played on February 7, 2016, at Levi\\'s Stadium in the San Francisco Bay Area at Santa Clara, California. As this was the 50th Super Bowl, the league emphasized the \"golden anniversary\" with various gold-themed initiatives, as well as temporarily suspending the tradition of naming each Super Bowl game with Roman numerals (under which the game would have been known as \"Super Bowl L\"), so that the logo could prominently feature the Arabic numerals 50.', 'question': 'Which NFL team represented the AFC at Super Bowl 50?', 'answers': {'text': ['Denver Broncos', 'Denver Broncos', 'Denver Broncos'], 'answer_start': [177, 177, 177]}}\n",
            "Predicted answer:  denver broncos\n",
            "Expected answer:  denver broncos\n",
            "{'id': '56be4db0acb8001400a502ed', 'title': 'Super_Bowl_50', 'context': 'Super Bowl 50 was an American football game to determine the champion of the National Football League (NFL) for the 2015 season. The American Football Conference (AFC) champion Denver Broncos defeated the National Football Conference (NFC) champion Carolina Panthers 24–10 to earn their third Super Bowl title. The game was played on February 7, 2016, at Levi\\'s Stadium in the San Francisco Bay Area at Santa Clara, California. As this was the 50th Super Bowl, the league emphasized the \"golden anniversary\" with various gold-themed initiatives, as well as temporarily suspending the tradition of naming each Super Bowl game with Roman numerals (under which the game would have been known as \"Super Bowl L\"), so that the logo could prominently feature the Arabic numerals 50.', 'question': 'Which NFL team represented the NFC at Super Bowl 50?', 'answers': {'text': ['Carolina Panthers', 'Carolina Panthers', 'Carolina Panthers'], 'answer_start': [249, 249, 249]}}\n",
            "Predicted answer:  carolina panthers\n",
            "Expected answer:  carolina panthers\n",
            "{'id': '56be4db0acb8001400a502ee', 'title': 'Super_Bowl_50', 'context': 'Super Bowl 50 was an American football game to determine the champion of the National Football League (NFL) for the 2015 season. The American Football Conference (AFC) champion Denver Broncos defeated the National Football Conference (NFC) champion Carolina Panthers 24–10 to earn their third Super Bowl title. The game was played on February 7, 2016, at Levi\\'s Stadium in the San Francisco Bay Area at Santa Clara, California. As this was the 50th Super Bowl, the league emphasized the \"golden anniversary\" with various gold-themed initiatives, as well as temporarily suspending the tradition of naming each Super Bowl game with Roman numerals (under which the game would have been known as \"Super Bowl L\"), so that the logo could prominently feature the Arabic numerals 50.', 'question': 'Where did Super Bowl 50 take place?', 'answers': {'text': ['Santa Clara, California', \"Levi's Stadium\", \"Levi's Stadium in the San Francisco Bay Area at Santa Clara, California.\"], 'answer_start': [403, 355, 355]}}\n",
            "Predicted answer:  levi's stadium in the san francisco bay area at santa clara, california\n",
            "Expected answer:  santa clara, california\n",
            "{'id': '56be4db0acb8001400a502ef', 'title': 'Super_Bowl_50', 'context': 'Super Bowl 50 was an American football game to determine the champion of the National Football League (NFL) for the 2015 season. The American Football Conference (AFC) champion Denver Broncos defeated the National Football Conference (NFC) champion Carolina Panthers 24–10 to earn their third Super Bowl title. The game was played on February 7, 2016, at Levi\\'s Stadium in the San Francisco Bay Area at Santa Clara, California. As this was the 50th Super Bowl, the league emphasized the \"golden anniversary\" with various gold-themed initiatives, as well as temporarily suspending the tradition of naming each Super Bowl game with Roman numerals (under which the game would have been known as \"Super Bowl L\"), so that the logo could prominently feature the Arabic numerals 50.', 'question': 'Which NFL team won Super Bowl 50?', 'answers': {'text': ['Denver Broncos', 'Denver Broncos', 'Denver Broncos'], 'answer_start': [177, 177, 177]}}\n",
            "Predicted answer:  denver broncos defeated the national football conference ( nfc ) champion carolina panthers\n",
            "Expected answer:  denver broncos\n",
            "{'id': '56be4db0acb8001400a502f0', 'title': 'Super_Bowl_50', 'context': 'Super Bowl 50 was an American football game to determine the champion of the National Football League (NFL) for the 2015 season. The American Football Conference (AFC) champion Denver Broncos defeated the National Football Conference (NFC) champion Carolina Panthers 24–10 to earn their third Super Bowl title. The game was played on February 7, 2016, at Levi\\'s Stadium in the San Francisco Bay Area at Santa Clara, California. As this was the 50th Super Bowl, the league emphasized the \"golden anniversary\" with various gold-themed initiatives, as well as temporarily suspending the tradition of naming each Super Bowl game with Roman numerals (under which the game would have been known as \"Super Bowl L\"), so that the logo could prominently feature the Arabic numerals 50.', 'question': 'What color was used to emphasize the 50th anniversary of the Super Bowl?', 'answers': {'text': ['gold', 'gold', 'gold'], 'answer_start': [488, 488, 521]}}\n",
            "Predicted answer:  gold - themed initiatives, as well as temporarily suspending the tradition of naming each super bowl game with roman\n",
            "Expected answer:  golden\n",
            "{'id': '56be8e613aeaaa14008c90d1', 'title': 'Super_Bowl_50', 'context': 'Super Bowl 50 was an American football game to determine the champion of the National Football League (NFL) for the 2015 season. The American Football Conference (AFC) champion Denver Broncos defeated the National Football Conference (NFC) champion Carolina Panthers 24–10 to earn their third Super Bowl title. The game was played on February 7, 2016, at Levi\\'s Stadium in the San Francisco Bay Area at Santa Clara, California. As this was the 50th Super Bowl, the league emphasized the \"golden anniversary\" with various gold-themed initiatives, as well as temporarily suspending the tradition of naming each Super Bowl game with Roman numerals (under which the game would have been known as \"Super Bowl L\"), so that the logo could prominently feature the Arabic numerals 50.', 'question': 'What was the theme of Super Bowl 50?', 'answers': {'text': ['\"golden anniversary\"', 'gold-themed', '\"golden anniversary'], 'answer_start': [487, 521, 487]}}\n",
            "Predicted answer:  an american football game to determine the champion of the national football league ( nfl ) for the 2015 season\n",
            "Expected answer:  \" golden anniversary \"\n",
            "{'id': '56be8e613aeaaa14008c90d2', 'title': 'Super_Bowl_50', 'context': 'Super Bowl 50 was an American football game to determine the champion of the National Football League (NFL) for the 2015 season. The American Football Conference (AFC) champion Denver Broncos defeated the National Football Conference (NFC) champion Carolina Panthers 24–10 to earn their third Super Bowl title. The game was played on February 7, 2016, at Levi\\'s Stadium in the San Francisco Bay Area at Santa Clara, California. As this was the 50th Super Bowl, the league emphasized the \"golden anniversary\" with various gold-themed initiatives, as well as temporarily suspending the tradition of naming each Super Bowl game with Roman numerals (under which the game would have been known as \"Super Bowl L\"), so that the logo could prominently feature the Arabic numerals 50.', 'question': 'What day was the game played on?', 'answers': {'text': ['February 7, 2016', 'February 7', 'February 7, 2016'], 'answer_start': [334, 334, 334]}}\n",
            "Predicted answer:  february 7, 2016\n",
            "Expected answer:  february 7, 2016\n",
            "{'id': '56be8e613aeaaa14008c90d3', 'title': 'Super_Bowl_50', 'context': 'Super Bowl 50 was an American football game to determine the champion of the National Football League (NFL) for the 2015 season. The American Football Conference (AFC) champion Denver Broncos defeated the National Football Conference (NFC) champion Carolina Panthers 24–10 to earn their third Super Bowl title. The game was played on February 7, 2016, at Levi\\'s Stadium in the San Francisco Bay Area at Santa Clara, California. As this was the 50th Super Bowl, the league emphasized the \"golden anniversary\" with various gold-themed initiatives, as well as temporarily suspending the tradition of naming each Super Bowl game with Roman numerals (under which the game would have been known as \"Super Bowl L\"), so that the logo could prominently feature the Arabic numerals 50.', 'question': 'What is the AFC short for?', 'answers': {'text': ['American Football Conference', 'American Football Conference', 'American Football Conference'], 'answer_start': [133, 133, 133]}}\n",
            "Predicted answer:  american football conference\n",
            "Expected answer:  american football conference\n",
            "{'id': '56bea9923aeaaa14008c91b9', 'title': 'Super_Bowl_50', 'context': 'Super Bowl 50 was an American football game to determine the champion of the National Football League (NFL) for the 2015 season. The American Football Conference (AFC) champion Denver Broncos defeated the National Football Conference (NFC) champion Carolina Panthers 24–10 to earn their third Super Bowl title. The game was played on February 7, 2016, at Levi\\'s Stadium in the San Francisco Bay Area at Santa Clara, California. As this was the 50th Super Bowl, the league emphasized the \"golden anniversary\" with various gold-themed initiatives, as well as temporarily suspending the tradition of naming each Super Bowl game with Roman numerals (under which the game would have been known as \"Super Bowl L\"), so that the logo could prominently feature the Arabic numerals 50.', 'question': 'What was the theme of Super Bowl 50?', 'answers': {'text': ['\"golden anniversary\"', 'gold-themed', 'gold'], 'answer_start': [487, 521, 521]}}\n",
            "Predicted answer:  an american football game to determine the champion of the national football league ( nfl ) for the 2015 season\n",
            "Expected answer:  \" golden anniversary \"\n",
            "{'id': '56bea9923aeaaa14008c91ba', 'title': 'Super_Bowl_50', 'context': 'Super Bowl 50 was an American football game to determine the champion of the National Football League (NFL) for the 2015 season. The American Football Conference (AFC) champion Denver Broncos defeated the National Football Conference (NFC) champion Carolina Panthers 24–10 to earn their third Super Bowl title. The game was played on February 7, 2016, at Levi\\'s Stadium in the San Francisco Bay Area at Santa Clara, California. As this was the 50th Super Bowl, the league emphasized the \"golden anniversary\" with various gold-themed initiatives, as well as temporarily suspending the tradition of naming each Super Bowl game with Roman numerals (under which the game would have been known as \"Super Bowl L\"), so that the logo could prominently feature the Arabic numerals 50.', 'question': 'What does AFC stand for?', 'answers': {'text': ['American Football Conference', 'American Football Conference', 'American Football Conference'], 'answer_start': [133, 133, 133]}}\n",
            "Predicted answer:  american football conference\n",
            "Expected answer:  american football conference\n",
            "{'id': '56bea9923aeaaa14008c91bb', 'title': 'Super_Bowl_50', 'context': 'Super Bowl 50 was an American football game to determine the champion of the National Football League (NFL) for the 2015 season. The American Football Conference (AFC) champion Denver Broncos defeated the National Football Conference (NFC) champion Carolina Panthers 24–10 to earn their third Super Bowl title. The game was played on February 7, 2016, at Levi\\'s Stadium in the San Francisco Bay Area at Santa Clara, California. As this was the 50th Super Bowl, the league emphasized the \"golden anniversary\" with various gold-themed initiatives, as well as temporarily suspending the tradition of naming each Super Bowl game with Roman numerals (under which the game would have been known as \"Super Bowl L\"), so that the logo could prominently feature the Arabic numerals 50.', 'question': 'What day was the Super Bowl played on?', 'answers': {'text': ['February 7, 2016', 'February 7', 'February 7, 2016'], 'answer_start': [334, 334, 334]}}\n",
            "Predicted answer:  february 7, 2016\n",
            "Expected answer:  february 7, 2016\n",
            "{'id': '56beace93aeaaa14008c91df', 'title': 'Super_Bowl_50', 'context': 'Super Bowl 50 was an American football game to determine the champion of the National Football League (NFL) for the 2015 season. The American Football Conference (AFC) champion Denver Broncos defeated the National Football Conference (NFC) champion Carolina Panthers 24–10 to earn their third Super Bowl title. The game was played on February 7, 2016, at Levi\\'s Stadium in the San Francisco Bay Area at Santa Clara, California. As this was the 50th Super Bowl, the league emphasized the \"golden anniversary\" with various gold-themed initiatives, as well as temporarily suspending the tradition of naming each Super Bowl game with Roman numerals (under which the game would have been known as \"Super Bowl L\"), so that the logo could prominently feature the Arabic numerals 50.', 'question': 'Who won Super Bowl 50?', 'answers': {'text': ['Denver Broncos', 'Denver Broncos', 'Denver Broncos'], 'answer_start': [177, 177, 177]}}\n",
            "Predicted answer:  national football league ( nfl )\n",
            "Expected answer:  denver broncos\n",
            "{'id': '56beace93aeaaa14008c91e0', 'title': 'Super_Bowl_50', 'context': 'Super Bowl 50 was an American football game to determine the champion of the National Football League (NFL) for the 2015 season. The American Football Conference (AFC) champion Denver Broncos defeated the National Football Conference (NFC) champion Carolina Panthers 24–10 to earn their third Super Bowl title. The game was played on February 7, 2016, at Levi\\'s Stadium in the San Francisco Bay Area at Santa Clara, California. As this was the 50th Super Bowl, the league emphasized the \"golden anniversary\" with various gold-themed initiatives, as well as temporarily suspending the tradition of naming each Super Bowl game with Roman numerals (under which the game would have been known as \"Super Bowl L\"), so that the logo could prominently feature the Arabic numerals 50.', 'question': 'What venue did Super Bowl 50 take place in?', 'answers': {'text': [\"Levi's Stadium\", \"Levi's Stadium\", \"Levi's Stadium in the San Francisco Bay Area at Santa Clara\"], 'answer_start': [355, 355, 355]}}\n",
            "Predicted answer:  levi's stadium\n",
            "Expected answer:  levi's stadium\n",
            "{'id': '56beace93aeaaa14008c91e1', 'title': 'Super_Bowl_50', 'context': 'Super Bowl 50 was an American football game to determine the champion of the National Football League (NFL) for the 2015 season. The American Football Conference (AFC) champion Denver Broncos defeated the National Football Conference (NFC) champion Carolina Panthers 24–10 to earn their third Super Bowl title. The game was played on February 7, 2016, at Levi\\'s Stadium in the San Francisco Bay Area at Santa Clara, California. As this was the 50th Super Bowl, the league emphasized the \"golden anniversary\" with various gold-themed initiatives, as well as temporarily suspending the tradition of naming each Super Bowl game with Roman numerals (under which the game would have been known as \"Super Bowl L\"), so that the logo could prominently feature the Arabic numerals 50.', 'question': 'What city did Super Bowl 50 take place in?', 'answers': {'text': ['Santa Clara', 'Santa Clara', 'Santa Clara'], 'answer_start': [403, 403, 403]}}\n",
            "Predicted answer:  santa clara, california\n",
            "Expected answer:  santa clara\n",
            "{'id': '56beace93aeaaa14008c91e2', 'title': 'Super_Bowl_50', 'context': 'Super Bowl 50 was an American football game to determine the champion of the National Football League (NFL) for the 2015 season. The American Football Conference (AFC) champion Denver Broncos defeated the National Football Conference (NFC) champion Carolina Panthers 24–10 to earn their third Super Bowl title. The game was played on February 7, 2016, at Levi\\'s Stadium in the San Francisco Bay Area at Santa Clara, California. As this was the 50th Super Bowl, the league emphasized the \"golden anniversary\" with various gold-themed initiatives, as well as temporarily suspending the tradition of naming each Super Bowl game with Roman numerals (under which the game would have been known as \"Super Bowl L\"), so that the logo could prominently feature the Arabic numerals 50.', 'question': 'If Roman numerals were used, what would Super Bowl 50 have been called?', 'answers': {'text': ['Super Bowl L', 'L', 'Super Bowl L'], 'answer_start': [693, 704, 693]}}\n",
            "Predicted answer:  super bowl l\n",
            "Expected answer:  super bowl l\n",
            "{'id': '56beace93aeaaa14008c91e3', 'title': 'Super_Bowl_50', 'context': 'Super Bowl 50 was an American football game to determine the champion of the National Football League (NFL) for the 2015 season. The American Football Conference (AFC) champion Denver Broncos defeated the National Football Conference (NFC) champion Carolina Panthers 24–10 to earn their third Super Bowl title. The game was played on February 7, 2016, at Levi\\'s Stadium in the San Francisco Bay Area at Santa Clara, California. As this was the 50th Super Bowl, the league emphasized the \"golden anniversary\" with various gold-themed initiatives, as well as temporarily suspending the tradition of naming each Super Bowl game with Roman numerals (under which the game would have been known as \"Super Bowl L\"), so that the logo could prominently feature the Arabic numerals 50.', 'question': 'Super Bowl 50 decided the NFL champion for what season?', 'answers': {'text': ['2015', 'the 2015 season', '2015'], 'answer_start': [116, 112, 116]}}\n",
            "Predicted answer:  2015 season\n",
            "Expected answer:  2015\n"
          ]
        }
      ]
    },
    {
      "cell_type": "markdown",
      "source": [
        "#### We ran the above test after 2 epochs of fine tuning. On manual evaluation, we got 11 correct answers, 2 partially correct and 3 wrong answers. TODO: Evaluate accuracy of the full test set. Multiple correct answers per question means that some additional work is needed to correctly evaluate the test accuracy."
      ],
      "metadata": {
        "id": "2B-2Yzdcm99C"
      }
    }
  ]
}